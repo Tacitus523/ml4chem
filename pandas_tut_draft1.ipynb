{
 "cells": [
  {
   "cell_type": "markdown",
   "metadata": {},
   "source": [
    "Willkommen zum Tutorial für Pandas. Nach diesem Tutorial werdet ihr sicherer im Umgang mit Daten in Python sein, sämtliche Machine Learning Algorithmen einfacher anwenden können und kaum noch Excel Tabellen benötigen."
   ]
  },
  {
   "cell_type": "markdown",
   "metadata": {},
   "source": [
    "Es geht direkt los: Ein DataFrame ist ein Objekt mit Zeilen und Spalten und Daten. Im Gegensatz zum zweiten häufig verwendeten Datentyp, dem Numpy-Array, können die Tabellen in Pandas eher als Excel-Tabelle, als als Matrix angesehen werden. \n",
    "Wir erstellen zwei Listen mit Daten und daraus ein DataFrame mit Bezeichnungen:"
   ]
  },
  {
   "cell_type": "code",
   "execution_count": 5,
   "metadata": {},
   "outputs": [
    {
     "name": "stdout",
     "output_type": "stream",
     "text": [
      "   0  1  2\n",
      "0  1  2  3\n",
      "1  4  5  6\n",
      "2  7  8  9\n"
     ]
    }
   ],
   "source": [
    "import pandas as pd # Konvention: Immer als \"pd\" importieren\n",
    "df = pd.DataFrame([ [1, 2, 3], [4, 5, 6], [7, 8, 9] ])\n",
    "print(df) # im default werden Datenlisten als Zeilenvektoren interpretiert"
   ]
  },
  {
   "cell_type": "code",
   "execution_count": 7,
   "metadata": {},
   "outputs": [
    {
     "name": "stdout",
     "output_type": "stream",
     "text": [
      "      Ware  Preis\n",
      "0    Apfel    1.0\n",
      "1    Birne    1.5\n",
      "2   Melone    2.0\n",
      "3  Zitrone    3.0\n"
     ]
    }
   ],
   "source": [
    "df = pd.DataFrame({ \n",
    "    \"Ware\": [\"Apfel\", \"Birne\", \"Melone\", \"Zitrone\"],\n",
    "    \"Preis\": [1, 1.5, 2, 3]\n",
    "})\n",
    "print(df) # Eine Möglichkeit, die Datenlisten spaltenweise zu interpretieren ist via Dictionary"
   ]
  },
  {
   "cell_type": "code",
   "execution_count": 8,
   "metadata": {},
   "outputs": [
    {
     "name": "stdout",
     "output_type": "stream",
     "text": [
      "           Ware  Preis\n",
      "erste     Apfel    1.0\n",
      "zweite    Birne    1.5\n",
      "dritte   Melone    2.0\n",
      "vierte  Zitrone    3.0\n"
     ]
    }
   ],
   "source": [
    "df = pd.DataFrame({ \n",
    "    \"Ware\": [\"Apfel\", \"Birne\", \"Melone\", \"Zitrone\"],\n",
    "    \"Preis\": [1, 1.5, 2, 3]\n",
    "},\n",
    "index=[\"erste\", \"zweite\", \"dritte\", \"vierte\"])\n",
    "print(df) # Spaltennamen (Ware, Preis) und Indexnamen können bestimmt werden, müssen aber nicht. Im Zweifel wird von 0 beginnend durchgezählt (s.o.)"
   ]
  },
  {
   "cell_type": "markdown",
   "metadata": {},
   "source": [
    "Zugriffe auf einzelne oder mehrere Elemente."
   ]
  },
  {
   "cell_type": "code",
   "execution_count": 15,
   "metadata": {},
   "outputs": [
    {
     "name": "stdout",
     "output_type": "stream",
     "text": [
      "erste     1.0\n",
      "zweite    1.5\n",
      "dritte    2.0\n",
      "vierte    3.0\n",
      "Name: Preis, dtype: float64\n",
      "erste     1.0\n",
      "zweite    1.5\n",
      "dritte    2.0\n",
      "vierte    3.0\n",
      "Name: Preis, dtype: float64\n",
      "zweite    1.5\n",
      "dritte    2.0\n",
      "Name: Preis, dtype: float64\n",
      "           Ware  Preis\n",
      "erste     Apfel    1.0\n",
      "zweite    Birne    1.5\n",
      "dritte   Melone    2.0\n",
      "vierte  Zitrone    3.0\n"
     ]
    }
   ],
   "source": [
    "print(df[\"Preis\"]) # Zugriff auf die Spalten via Spaltenname\n",
    "print(df.iloc[:,1]) # oder mit integers durch 'iloc'. Dabei ist immer df.iloc['Spalten', 'Zeilen']. \n",
    "print(df.iloc[1:3, 1]) # gibt in den Spalten 1 und 2 (1:3) jeweils die Zeile 1 (Preis, da Ware den Index 0 hat)\n",
    "print(df.iloc[:, :]) # sind alle Zeilen und alle Spalten. Ergo das gleiche, wie print(df)"
   ]
  },
  {
   "cell_type": "markdown",
   "metadata": {},
   "source": [
    "Nun können wir mit den Spalten als eigenständige Datentypen arbeiten. Z.B. gibt es eine Steuer auf Obst in höhe von 5%. "
   ]
  },
  {
   "cell_type": "code",
   "execution_count": 17,
   "metadata": {},
   "outputs": [
    {
     "name": "stdout",
     "output_type": "stream",
     "text": [
      "           Ware    Preis\n",
      "erste     Apfel  1.10250\n",
      "zweite    Birne  1.65375\n",
      "dritte   Melone  2.20500\n",
      "vierte  Zitrone  3.30750\n"
     ]
    }
   ],
   "source": [
    "df[\"Preis\"] = df[\"Preis\"]*1.05\n",
    "print(df)"
   ]
  },
  {
   "cell_type": "code",
   "execution_count": null,
   "metadata": {},
   "outputs": [],
   "source": []
  }
 ],
 "metadata": {
  "interpreter": {
   "hash": "e97c6a5724fcf81fa84ff928e71a4d8bdde17de8a70feb821a2f9bc6aa71be1a"
  },
  "kernelspec": {
   "display_name": "Python 3.9.12 ('base')",
   "language": "python",
   "name": "python3"
  },
  "language_info": {
   "codemirror_mode": {
    "name": "ipython",
    "version": 3
   },
   "file_extension": ".py",
   "mimetype": "text/x-python",
   "name": "python",
   "nbconvert_exporter": "python",
   "pygments_lexer": "ipython3",
   "version": "3.9.12"
  },
  "orig_nbformat": 4
 },
 "nbformat": 4,
 "nbformat_minor": 2
}

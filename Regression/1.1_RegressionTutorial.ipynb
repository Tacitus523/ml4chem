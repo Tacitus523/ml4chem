{
 "cells": [
  {
   "cell_type": "markdown",
   "metadata": {},
   "source": [
    "Brainstorm während Vor1:\n",
    "    - Vokabeln: \n",
    "        - ML vs. AI: ML ist sub-discipline und zeichnet sich dadurch aus, dass extracted knowledge getestet wird und fd back into the machine so dass Model refined wird\n",
    "        - Supervised vs. Unsupervised\n",
    "        - Data and Notaion: Response = Y ; Predictors = Variables = Features X ; so dass f(x)=y ; gell X=Vektor ; Trainingdata aus n Tuplen (x,y) mit je xT=(x1,x2,...xp) also ganzer Trainingsdatensatz ist nxp Matrix. \n",
    "        - Learning: Adjust the fit parameters beta\n",
    "        - Categorical vs. Ordinal ;; Regression vs. Classification ;; f(x) ist entweder continuous oder discrete ;; Bsp Musik die du hörst + Lieblingsessen -> Herkunftskontinent. Geht aber schwierig im Detail. \n",
    "        - Parametric vs. Non-parametric methods (feste funktionelle Form vs. variabel. Vlt Hyperparameter einführen)\n",
    "        - R2 aus 1-Rss/Tss \n",
    "        - Overfitting and Regularization: Overfitting an polynomial Beispiel\n",
    "        - Regularisierung: RSS = (yi-yipred)² + lambda*sum(betas)² \n",
    "\n",
    "    - Aufbau: \n",
    "        - Linear:\n",
    "            - Formel, Error via RSS (sum(yi-xibi)²), beta als minimum direkt analytisch als b=(xTx)-1xTy ; \n",
    "            - multiple outputs\n",
    "            - Lasso, Ridge\n",
    "        - Nonlinear \n",
    "            - Polynomial \n",
    "    - Brainstorm:\n",
    "        - Einfachstes Beispiel: Anzahl Atome vs. molekulare Masse ; Fitte Beta via ML und erhalte so die durchschnittliche Massenzahl (mass number)\n",
    "    - Mathe unklar:\n",
    "        - 2.1 dRss/dbeta=-2xT(y-xbeta)=0 -> beta = (xTx)-1 xTy ;; ok ich versteh dass man durch -2 teilt, ausmultipliziert, xtxbeta nach rechts; dann von links mit (xtx)-1 ; aber warum darf man nicht direkt durch -2 teilen und dann xT-1 von links?"
   ]
  },
  {
   "cell_type": "markdown",
   "metadata": {},
   "source": [
    "Welcome to the linear regression tutorial! bla...\n",
    "During the next 20 minutes, we want to repeat the most important things from the lecture and learn how to implement these things in python. You will need this among others for the excercise. \n",
    "We will download a data set, perform linear regression once in an analytical way and once in a machine learing way. "
   ]
  },
  {
   "cell_type": "markdown",
   "metadata": {},
   "source": [
    "0. Import all modules that we need during this tutorial "
   ]
  },
  {
   "cell_type": "code",
   "execution_count": 82,
   "metadata": {},
   "outputs": [],
   "source": [
    "import numpy as np # powerful numerical package for all kinds of algebra and calculus\n",
    "np.set_printoptions(precision=3) # numpy rounds all numbers to 3rd decimals \n",
    "import pandas as pd # data manipulation package (excel for python) with lots of useful functions based on numpy\n",
    "import matplotlib.pyplot as plt # plotting library\n",
    "import seaborn as sns # advanced plotting library  \n",
    "# sklearn is one of the most popular machine learning libraries. Do not import the whole huge package, but only the modules, that you need.\n",
    "from sklearn.linear_model import LinearRegression\n",
    "from sklearn.model_selection import train_test_split\n",
    "from sklearn.metrics import mean_absolute_error, mean_squared_error, r2_score"
   ]
  },
  {
   "cell_type": "markdown",
   "metadata": {},
   "source": [
    "1. Load a data set and inspect it"
   ]
  },
  {
   "cell_type": "code",
   "execution_count": 66,
   "metadata": {},
   "outputs": [
    {
     "name": "stdout",
     "output_type": "stream",
     "text": [
      "Data shape: (9982, 26)\n",
      "Data columns: Index(['ID', 'Name', 'InChI', 'InChIKey', 'SMILES', 'Solubility', 'SD',\n",
      "       'Ocurrences', 'Group', 'MolWt', 'MolLogP', 'MolMR', 'HeavyAtomCount',\n",
      "       'NumHAcceptors', 'NumHDonors', 'NumHeteroatoms', 'NumRotatableBonds',\n",
      "       'NumValenceElectrons', 'NumAromaticRings', 'NumSaturatedRings',\n",
      "       'NumAliphaticRings', 'RingCount', 'TPSA', 'LabuteASA', 'BalabanJ',\n",
      "       'BertzCT'],\n",
      "      dtype='object')\n",
      "First 5 of 9982 entries look like this:\n"
     ]
    },
    {
     "data": {
      "text/html": [
       "<div>\n",
       "<style scoped>\n",
       "    .dataframe tbody tr th:only-of-type {\n",
       "        vertical-align: middle;\n",
       "    }\n",
       "\n",
       "    .dataframe tbody tr th {\n",
       "        vertical-align: top;\n",
       "    }\n",
       "\n",
       "    .dataframe thead th {\n",
       "        text-align: right;\n",
       "    }\n",
       "</style>\n",
       "<table border=\"1\" class=\"dataframe\">\n",
       "  <thead>\n",
       "    <tr style=\"text-align: right;\">\n",
       "      <th></th>\n",
       "      <th>ID</th>\n",
       "      <th>Name</th>\n",
       "      <th>InChI</th>\n",
       "      <th>InChIKey</th>\n",
       "      <th>SMILES</th>\n",
       "      <th>Solubility</th>\n",
       "      <th>SD</th>\n",
       "      <th>Ocurrences</th>\n",
       "      <th>Group</th>\n",
       "      <th>MolWt</th>\n",
       "      <th>...</th>\n",
       "      <th>NumRotatableBonds</th>\n",
       "      <th>NumValenceElectrons</th>\n",
       "      <th>NumAromaticRings</th>\n",
       "      <th>NumSaturatedRings</th>\n",
       "      <th>NumAliphaticRings</th>\n",
       "      <th>RingCount</th>\n",
       "      <th>TPSA</th>\n",
       "      <th>LabuteASA</th>\n",
       "      <th>BalabanJ</th>\n",
       "      <th>BertzCT</th>\n",
       "    </tr>\n",
       "  </thead>\n",
       "  <tbody>\n",
       "    <tr>\n",
       "      <th>0</th>\n",
       "      <td>A-3</td>\n",
       "      <td>N,N,N-trimethyloctadecan-1-aminium bromide</td>\n",
       "      <td>InChI=1S/C21H46N.BrH/c1-5-6-7-8-9-10-11-12-13-...</td>\n",
       "      <td>SZEMGTQCPRNXEG-UHFFFAOYSA-M</td>\n",
       "      <td>[Br-].CCCCCCCCCCCCCCCCCC[N+](C)(C)C</td>\n",
       "      <td>-3.616127</td>\n",
       "      <td>0.0</td>\n",
       "      <td>1</td>\n",
       "      <td>G1</td>\n",
       "      <td>392.510</td>\n",
       "      <td>...</td>\n",
       "      <td>17.0</td>\n",
       "      <td>142.0</td>\n",
       "      <td>0.0</td>\n",
       "      <td>0.0</td>\n",
       "      <td>0.0</td>\n",
       "      <td>0.0</td>\n",
       "      <td>0.00</td>\n",
       "      <td>158.520601</td>\n",
       "      <td>0.000000e+00</td>\n",
       "      <td>210.377334</td>\n",
       "    </tr>\n",
       "    <tr>\n",
       "      <th>1</th>\n",
       "      <td>A-4</td>\n",
       "      <td>Benzo[cd]indol-2(1H)-one</td>\n",
       "      <td>InChI=1S/C11H7NO/c13-11-8-5-1-3-7-4-2-6-9(12-1...</td>\n",
       "      <td>GPYLCFQEKPUWLD-UHFFFAOYSA-N</td>\n",
       "      <td>O=C1Nc2cccc3cccc1c23</td>\n",
       "      <td>-3.254767</td>\n",
       "      <td>0.0</td>\n",
       "      <td>1</td>\n",
       "      <td>G1</td>\n",
       "      <td>169.183</td>\n",
       "      <td>...</td>\n",
       "      <td>0.0</td>\n",
       "      <td>62.0</td>\n",
       "      <td>2.0</td>\n",
       "      <td>0.0</td>\n",
       "      <td>1.0</td>\n",
       "      <td>3.0</td>\n",
       "      <td>29.10</td>\n",
       "      <td>75.183563</td>\n",
       "      <td>2.582996e+00</td>\n",
       "      <td>511.229248</td>\n",
       "    </tr>\n",
       "    <tr>\n",
       "      <th>2</th>\n",
       "      <td>A-5</td>\n",
       "      <td>4-chlorobenzaldehyde</td>\n",
       "      <td>InChI=1S/C7H5ClO/c8-7-3-1-6(5-9)2-4-7/h1-5H</td>\n",
       "      <td>AVPYQKSLYISFPO-UHFFFAOYSA-N</td>\n",
       "      <td>Clc1ccc(C=O)cc1</td>\n",
       "      <td>-2.177078</td>\n",
       "      <td>0.0</td>\n",
       "      <td>1</td>\n",
       "      <td>G1</td>\n",
       "      <td>140.569</td>\n",
       "      <td>...</td>\n",
       "      <td>1.0</td>\n",
       "      <td>46.0</td>\n",
       "      <td>1.0</td>\n",
       "      <td>0.0</td>\n",
       "      <td>0.0</td>\n",
       "      <td>1.0</td>\n",
       "      <td>17.07</td>\n",
       "      <td>58.261134</td>\n",
       "      <td>3.009782e+00</td>\n",
       "      <td>202.661065</td>\n",
       "    </tr>\n",
       "    <tr>\n",
       "      <th>3</th>\n",
       "      <td>A-8</td>\n",
       "      <td>zinc bis[2-hydroxy-3,5-bis(1-phenylethyl)benzo...</td>\n",
       "      <td>InChI=1S/2C23H22O3.Zn/c2*1-15(17-9-5-3-6-10-17...</td>\n",
       "      <td>XTUPUYCJWKHGSW-UHFFFAOYSA-L</td>\n",
       "      <td>[Zn++].CC(c1ccccc1)c2cc(C(C)c3ccccc3)c(O)c(c2)...</td>\n",
       "      <td>-3.924409</td>\n",
       "      <td>0.0</td>\n",
       "      <td>1</td>\n",
       "      <td>G1</td>\n",
       "      <td>756.226</td>\n",
       "      <td>...</td>\n",
       "      <td>10.0</td>\n",
       "      <td>264.0</td>\n",
       "      <td>6.0</td>\n",
       "      <td>0.0</td>\n",
       "      <td>0.0</td>\n",
       "      <td>6.0</td>\n",
       "      <td>120.72</td>\n",
       "      <td>323.755434</td>\n",
       "      <td>2.322963e-07</td>\n",
       "      <td>1964.648666</td>\n",
       "    </tr>\n",
       "    <tr>\n",
       "      <th>4</th>\n",
       "      <td>A-9</td>\n",
       "      <td>4-({4-[bis(oxiran-2-ylmethyl)amino]phenyl}meth...</td>\n",
       "      <td>InChI=1S/C25H30N2O4/c1-5-20(26(10-22-14-28-22)...</td>\n",
       "      <td>FAUAZXVRLVIARB-UHFFFAOYSA-N</td>\n",
       "      <td>C1OC1CN(CC2CO2)c3ccc(Cc4ccc(cc4)N(CC5CO5)CC6CO...</td>\n",
       "      <td>-4.662065</td>\n",
       "      <td>0.0</td>\n",
       "      <td>1</td>\n",
       "      <td>G1</td>\n",
       "      <td>422.525</td>\n",
       "      <td>...</td>\n",
       "      <td>12.0</td>\n",
       "      <td>164.0</td>\n",
       "      <td>2.0</td>\n",
       "      <td>4.0</td>\n",
       "      <td>4.0</td>\n",
       "      <td>6.0</td>\n",
       "      <td>56.60</td>\n",
       "      <td>183.183268</td>\n",
       "      <td>1.084427e+00</td>\n",
       "      <td>769.899934</td>\n",
       "    </tr>\n",
       "  </tbody>\n",
       "</table>\n",
       "<p>5 rows × 26 columns</p>\n",
       "</div>"
      ],
      "text/plain": [
       "    ID                                               Name  \\\n",
       "0  A-3         N,N,N-trimethyloctadecan-1-aminium bromide   \n",
       "1  A-4                           Benzo[cd]indol-2(1H)-one   \n",
       "2  A-5                               4-chlorobenzaldehyde   \n",
       "3  A-8  zinc bis[2-hydroxy-3,5-bis(1-phenylethyl)benzo...   \n",
       "4  A-9  4-({4-[bis(oxiran-2-ylmethyl)amino]phenyl}meth...   \n",
       "\n",
       "                                               InChI  \\\n",
       "0  InChI=1S/C21H46N.BrH/c1-5-6-7-8-9-10-11-12-13-...   \n",
       "1  InChI=1S/C11H7NO/c13-11-8-5-1-3-7-4-2-6-9(12-1...   \n",
       "2        InChI=1S/C7H5ClO/c8-7-3-1-6(5-9)2-4-7/h1-5H   \n",
       "3  InChI=1S/2C23H22O3.Zn/c2*1-15(17-9-5-3-6-10-17...   \n",
       "4  InChI=1S/C25H30N2O4/c1-5-20(26(10-22-14-28-22)...   \n",
       "\n",
       "                      InChIKey  \\\n",
       "0  SZEMGTQCPRNXEG-UHFFFAOYSA-M   \n",
       "1  GPYLCFQEKPUWLD-UHFFFAOYSA-N   \n",
       "2  AVPYQKSLYISFPO-UHFFFAOYSA-N   \n",
       "3  XTUPUYCJWKHGSW-UHFFFAOYSA-L   \n",
       "4  FAUAZXVRLVIARB-UHFFFAOYSA-N   \n",
       "\n",
       "                                              SMILES  Solubility   SD  \\\n",
       "0                [Br-].CCCCCCCCCCCCCCCCCC[N+](C)(C)C   -3.616127  0.0   \n",
       "1                               O=C1Nc2cccc3cccc1c23   -3.254767  0.0   \n",
       "2                                    Clc1ccc(C=O)cc1   -2.177078  0.0   \n",
       "3  [Zn++].CC(c1ccccc1)c2cc(C(C)c3ccccc3)c(O)c(c2)...   -3.924409  0.0   \n",
       "4  C1OC1CN(CC2CO2)c3ccc(Cc4ccc(cc4)N(CC5CO5)CC6CO...   -4.662065  0.0   \n",
       "\n",
       "   Ocurrences Group    MolWt  ...  NumRotatableBonds  NumValenceElectrons  \\\n",
       "0           1    G1  392.510  ...               17.0                142.0   \n",
       "1           1    G1  169.183  ...                0.0                 62.0   \n",
       "2           1    G1  140.569  ...                1.0                 46.0   \n",
       "3           1    G1  756.226  ...               10.0                264.0   \n",
       "4           1    G1  422.525  ...               12.0                164.0   \n",
       "\n",
       "   NumAromaticRings  NumSaturatedRings  NumAliphaticRings  RingCount    TPSA  \\\n",
       "0               0.0                0.0                0.0        0.0    0.00   \n",
       "1               2.0                0.0                1.0        3.0   29.10   \n",
       "2               1.0                0.0                0.0        1.0   17.07   \n",
       "3               6.0                0.0                0.0        6.0  120.72   \n",
       "4               2.0                4.0                4.0        6.0   56.60   \n",
       "\n",
       "    LabuteASA      BalabanJ      BertzCT  \n",
       "0  158.520601  0.000000e+00   210.377334  \n",
       "1   75.183563  2.582996e+00   511.229248  \n",
       "2   58.261134  3.009782e+00   202.661065  \n",
       "3  323.755434  2.322963e-07  1964.648666  \n",
       "4  183.183268  1.084427e+00   769.899934  \n",
       "\n",
       "[5 rows x 26 columns]"
      ]
     },
     "execution_count": 66,
     "metadata": {},
     "output_type": "execute_result"
    }
   ],
   "source": [
    "# load it\n",
    "data = pd.read_csv(\n",
    "    \"https://github.com/whitead/dmol-book/raw/main/data/curated-solubility-dataset.csv\"\n",
    ")\n",
    "# inspecting\n",
    "print(\"Data shape:\", data.shape)\n",
    "print(\"Data columns:\", data.columns)\n",
    "print(\"First 5 of 9982 entries look like this:\")\n",
    "data.head() "
   ]
  },
  {
   "cell_type": "markdown",
   "metadata": {},
   "source": [
    "2. As you can see, there are roughly 10,000 entries in the data set. Out of the 26 columns,some have a chemical meaning (SMILES encoding a molecular structure, NumRotatableBonds, NumAromaticRings,...), some a physical (Solubility, Molwt (mass), ASA (Accessible Surface Area),...) and some are only for the data structure (ID, Group, Ocurrences). \n",
    "We start with an easy example: We want to predict the molecular weight of the molecules with the number of heavy (non hydrogen) atoms. \n",
    "First thing is always to check whether any of the 10,000 entries are missing (NaN - not a number) and check for easily seable correlations.   "
   ]
  },
  {
   "cell_type": "code",
   "execution_count": null,
   "metadata": {},
   "outputs": [],
   "source": [
    "# check molecular weight entries\n",
    "print(\"---- MolWt describe ----\")\n",
    "print(data[\"MolWt\"].describe() )\n",
    "print(\"\\n---- MolWt check NaN ----\")\n",
    "print(data[\"MolWt\"].isna().sum())\n",
    "# check heavy atom entries \n",
    "print(\"---- HeavyAtomCount describe ----\")\n",
    "print(data[\"HeavyAtomCount\"].describe() )\n",
    "print(\"\\n---- HeavyAtomCount check NaN ----\")\n",
    "print(data[\"HeavyAtomCount\"].isna().sum())\n"
   ]
  },
  {
   "cell_type": "markdown",
   "metadata": {},
   "source": [
    "The data type \"float64\" indicates that there are only float numbers in our entries, no strings or objects or other data types. No NaN values indicate that all of the float entries are actually numbers. NaN entries can occur when deviding by zero or other operations leading to no result. Let's visualize the ditribution of the data. "
   ]
  },
  {
   "cell_type": "code",
   "execution_count": null,
   "metadata": {},
   "outputs": [],
   "source": [
    "sns.pairplot(data[[\"MolWt\", \"HeavyAtomCount\"]])"
   ]
  },
  {
   "cell_type": "markdown",
   "metadata": {},
   "source": [
    "Not surprisingly, we can already see a linear correlation between the number of heavy atoms and the molecular weight. Let's try out, how we can obtain the slope of the best linear fit (without calculating the average weight of the heavy atoms). The frst is the analytical way: "
   ]
  },
  {
   "cell_type": "markdown",
   "metadata": {},
   "source": [
    "3. Get fit parameter analytically: \n",
    "\n",
    "In a supervised scenario, where the inputs and outputs are known, we want to predict \n",
    "\n",
    "Y (aka Response, Targets, Labels) \n",
    "\n",
    "with \n",
    "\n",
    "X (aka Features, Variables, Predictors).\n",
    "\n",
    "In a one dimesional linear regression, it is simply \n",
    "$$\n",
    "   \\mathbf{Y} = f(\\mathbf{X}) = \\beta_0+\\beta_1\\mathbf{X} \n",
    "$$\n",
    "The vector $\\mathbf{Y}$ contains all 10,000 target values $y_i$ (MolWeight) and the vector $\\mathbf{X}$ contains all 10,000 features $x_i$ (Number-heavyatoms). The $\\beta_0$ and $\\beta_1$ are scalar values that we want to find. \n",
    "\n",
    "A common notation adds a \"One\" as an aditional entry to all Features and summarizes all betas into a vector itself, so one feature $x_i$ gets to the vector ${x_i^T}=(1, x_i)$ and the betas get to $\\beta^T=(\\beta_0, \\beta_1)$ leading to \n",
    "$$\n",
    "   \\mathbf{Y} = f(\\mathbf{X}) = {X^T}\\beta\n",
    "$$\n",
    "Most often, people just write $X\\beta$ instead of $X^T\\beta$.\n",
    "\n",
    "From the lecture, we know that the residual sum of squares is given by \n",
    "$$\n",
    "RSS = \\sum_i^n (y_{i,true} - y_{i,pred})^2 = ({Y}-{X}\\beta)^2 = ({Y}-{X}\\beta)^T({Y}-{X}\\beta)\n",
    "$$\n",
    "and the minimum with zero first derivative can be found via\n",
    "$$\n",
    "dRSS/d\\beta=-2{X}^T({Y}-{X}\\beta)=0 <=> \\beta=({X^T}{X})^{-1}{X^T}{Y}\n",
    "$$\n",
    "\n",
    "The same thing written in a different way (Lukas, wir müssen reden^^) would be the RSS wikpedia page\n",
    "$$\n",
    "{Y}={X}\\beta <=> {X^T}{Y}={X^T}{X}\\beta<=>\\beta=({X^T}{X})^{-1}{X^T}{Y}\n",
    "$$\n",
    "Let's try this out with ${Y} \\in R^{9982}$ and ${X} \\in R^{2\\times9982}$ and $\\beta \\in R^2$:"
   ]
  },
  {
   "cell_type": "code",
   "execution_count": 63,
   "metadata": {},
   "outputs": [
    {
     "name": "stdout",
     "output_type": "stream",
     "text": [
      "x shape: (9982,) first 2 entries:\n",
      " [23. 13.]\n",
      "x shape: (9982, 1) first 2 entries:\n",
      " [[23.]\n",
      " [13.]]\n",
      "x shape: (9982, 2) first 2 entries: \n",
      " [[ 1. 23.]\n",
      " [ 1. 13.]]\n",
      "\n",
      "calculating beta...\n",
      "beta = [18.234 14.299]\n"
     ]
    }
   ],
   "source": [
    "y = np.array(data[\"MolWt\"])\n",
    "x = np.array(data[\"HeavyAtomCount\"])\n",
    "print(\"x shape:\", x.shape, \"first 2 entries:\\n\", x[:2])\n",
    "# add an extra dimension to x\n",
    "x = x[:, np.newaxis]\n",
    "print(\"x shape:\", x.shape, \"first 2 entries:\\n\", x[:2])\n",
    "# fill the extra dimension with ones \n",
    "x = np.hstack([np.ones_like(x), x])\n",
    "print(\"x shape:\", x.shape, \"first 2 entries: \\n\", x[:2])\n",
    "\n",
    "# Calculate Beta with numpy's matrix product np.matmul (shortcut \"@\")\n",
    "# and its inverting function linalg.inv()\n",
    "print(\"\\ncalculating beta...\")\n",
    "beta = np.linalg.inv((x.T @ x)) @ x.T @ y\n",
    "print(\"beta =\",beta) "
   ]
  },
  {
   "cell_type": "markdown",
   "metadata": {},
   "source": [
    "We found an analytical expression: $\\beta_0$ is 18.2 and $\\beta_1$ is 14.3. Let's see how good the fit is: "
   ]
  },
  {
   "cell_type": "code",
   "execution_count": 62,
   "metadata": {},
   "outputs": [
    {
     "data": {
      "text/plain": [
       "<matplotlib.legend.Legend at 0x7fa204054f70>"
      ]
     },
     "execution_count": 62,
     "metadata": {},
     "output_type": "execute_result"
    },
    {
     "data": {
      "image/png": "[encoded data removed]",
      "text/plain": [
       "<Figure size 432x288 with 1 Axes>"
      ]
     },
     "metadata": {
      "needs_background": "light"
     },
     "output_type": "display_data"
    }
   ],
   "source": [
    "# plot the molecular weight and the linearly transformed number of heavy atoms\n",
    "\n",
    "# create the figure\n",
    "fig, ax = plt.subplots() \n",
    "# plot blue scatters\n",
    "ax.scatter(data[\"HeavyAtomCount\"], data[\"MolWt\"], color=\"blue\", marker=\".\", label=\"Target\")\n",
    "# for the linear fit, create 1000 values between the minimum and maximum number of heavy atoms\n",
    "x_values = np.linspace(data[\"HeavyAtomCount\"].min(), data[\"HeavyAtomCount\"].max(), 1000)\n",
    "# plot the linear fit with the betas\n",
    "ax.plot(x_values, beta[0]+x_values*beta[1], color=\"red\", label=\"fit\")\n",
    "# set appearance of axis and create a legend\n",
    "ax.set_xlabel(\"Number of heavy atoms\")\n",
    "ax.set_ylabel(\"Molecular weight\")\n",
    "ax.legend() "
   ]
  },
  {
   "cell_type": "markdown",
   "metadata": {},
   "source": [
    "This looks good. We will talk about quantifying the goodness of a fit at the end of this tutorial. "
   ]
  },
  {
   "cell_type": "markdown",
   "metadata": {},
   "source": [
    "4. Luckily, the same job can be done with sophisticated packages like scikit learn. It is easy to use and only needs a few steps:"
   ]
  },
  {
   "cell_type": "code",
   "execution_count": 61,
   "metadata": {},
   "outputs": [
    {
     "name": "stdout",
     "output_type": "stream",
     "text": [
      "The betas obtained from scikit-learn are:\n",
      " 18.233651405997847  and  14.298529479612462\n"
     ]
    }
   ],
   "source": [
    "# data parsing\n",
    "y = np.array(data[\"MolWt\"])\n",
    "x = np.array(data[\"HeavyAtomCount\"]).reshape(-1,1) # reshape makes [1,2,3] to [[1],[2],[3]]. This is often needed for various functions around numpy.\n",
    "# create a model object (we imported it from sklearn)\n",
    "regr = linear_model.LinearRegression()\n",
    "# the determination of betas is called fitting (or training)\n",
    "regr.fit(x, y)\n",
    "# get the betas\n",
    "print(\"The betas obtained from scikit-learn are:\\n\", regr.intercept_, \" and \", regr.coef_[0])"
   ]
  },
  {
   "cell_type": "markdown",
   "metadata": {},
   "source": [
    "The results are identical, because scikit-learn does the exact same analytical calculation (Ordinary Least Squares) under the hood. We will see deviations of machine learned coefficients in the next lecture. \n",
    "\n",
    "Let's try the same procedure for a more complicated problem: Can we predict the solubility of a molecule with its molecular weight, its solvent accesssible surface area and its Number of hydrogen-bond acceptors? "
   ]
  },
  {
   "cell_type": "code",
   "execution_count": 78,
   "metadata": {},
   "outputs": [],
   "source": [
    "# parsing\n",
    "y_multi = np.array(data[\"Solubility\"])\n",
    "x_multi = np.array(data[[\"MolWt\", \"LabuteASA\", \"NumHAcceptors\"]])"
   ]
  },
  {
   "cell_type": "markdown",
   "metadata": {},
   "source": [
    "A very common strategy in ML is to split the data set into train and test sets. This allows evaluating the performance of the model on a test set, that the model has never seen during training. "
   ]
  },
  {
   "cell_type": "code",
   "execution_count": 79,
   "metadata": {},
   "outputs": [
    {
     "name": "stdout",
     "output_type": "stream",
     "text": [
      "Training features have shape:  (7985, 3)\n",
      "Testing features have shape:  (1997, 3)\n",
      "Training targets have shape:  (7985,)\n",
      "Testing targets have shape:  (1997,)\n"
     ]
    }
   ],
   "source": [
    "# split it into 80/20 train/test\n",
    "x_train, x_test, y_train, y_test = train_test_split(x_multi, y_multi, test_size=0.2)\n",
    "print(\"Training features have shape: \", x_train.shape)\n",
    "print(\"Testing features have shape: \", x_test.shape)\n",
    "print(\"Training targets have shape: \", y_train.shape)\n",
    "print(\"Testing targets have shape: \", y_test.shape)"
   ]
  },
  {
   "cell_type": "markdown",
   "metadata": {},
   "source": [
    "Train the model for multilinear regression."
   ]
  },
  {
   "cell_type": "code",
   "execution_count": 81,
   "metadata": {},
   "outputs": [
    {
     "name": "stdout",
     "output_type": "stream",
     "text": [
      "The betas obtained from scikit-learn are:\n",
      " -1.5220888281724203  and  [-0.008 -0.007  0.46 ]\n"
     ]
    }
   ],
   "source": [
    "multiregr = linear_model.LinearRegression()\n",
    "# the determination of betas is called fitting (or training)\n",
    "multiregr.fit(x_train, y_train)\n",
    "# get the betas\n",
    "print(\"The betas obtained from scikit-learn are:\\n\", multiregr.intercept_, \" and \", multiregr.coef_)"
   ]
  },
  {
   "cell_type": "markdown",
   "metadata": {},
   "source": [
    "Note that there are 3 coefficients, one for each feature and still one $\\beta_0$.\n",
    "\n",
    "We cannot plot 4 dimensions, easily. But because of the test set, we can evaluate the model's performance. E.g. via the mean asolute error, the root mean squared error and the coefficient of determination (R2):\n",
    "\n",
    "$$\n",
    "\\begin{align}\n",
    "MAE &= \\frac{1}{n} \\sum_i^n | y_{true} - y_{pred} | \\\\\n",
    "RMSE &= \\sqrt{\\frac{1}{n} \\sum_i^n (y_{true} - y_{pred})^2} \\\\\n",
    "R_2 &= 1- \\frac{\\sum_i (y_{true} - y_{pred})^2}{\\sum_i (y_{true} - \\bar{y})^2}\n",
    "\\end{align}\n",
    "$$"
   ]
  },
  {
   "cell_type": "code",
   "execution_count": 86,
   "metadata": {},
   "outputs": [
    {
     "name": "stdout",
     "output_type": "stream",
     "text": [
      "MAE =  1.4667851248797226\n",
      "RMSE =  1.9372057555946154\n",
      "R2 =  0.335053556158623\n"
     ]
    }
   ],
   "source": [
    "# get the predictions\n",
    "predictions = multiregr.predict(x_test)\n",
    "# and compare them agains the true values y_test \n",
    "print(\"MAE = \", mean_absolute_error(y_test, predictions))\n",
    "print(\"RMSE = \", mean_squared_error(y_test, predictions, squared=False))\n",
    "print(\"R2 = \", r2_score(y_test, predictions))"
   ]
  }
 ],
 "metadata": {
  "kernelspec": {
   "display_name": "ml4chem",
   "language": "python",
   "name": "python3"
  },
  "language_info": {
   "codemirror_mode": {
    "name": "ipython",
    "version": 3
   },
   "file_extension": ".py",
   "mimetype": "text/x-python",
   "name": "python",
   "nbconvert_exporter": "python",
   "pygments_lexer": "ipython3",
   "version": "3.9.12"
  }
 },
 "nbformat": 4,
 "nbformat_minor": 2
}

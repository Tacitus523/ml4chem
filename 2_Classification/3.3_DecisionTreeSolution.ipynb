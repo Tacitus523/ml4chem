{
 "cells": [
  {
   "cell_type": "markdown",
   "metadata": {},
   "source": [
    "# Decision Tree Exercise\n",
    "\n",
    "In this exercise you'll build your own decision tree to predict wine quality based on its ingredients."
   ]
  },
  {
   "cell_type": "code",
   "execution_count": 1,
   "metadata": {},
   "outputs": [],
   "source": [
    "import matplotlib.pyplot as plt\n",
    "import numpy as np\n",
    "import pandas as pd\n",
    "import seaborn as sns\n",
    "from sklearn.model_selection import train_test_split\n",
    "from sklearn import tree\n",
    "from sklearn.ensemble import RandomForestClassifier\n",
    "from sklearn.metrics import confusion_matrix, ConfusionMatrixDisplay, classification_report, accuracy_score, precision_score, recall_score, f1_score, mean_absolute_error, r2_score\n",
    "\n",
    "np.set_printoptions(precision=2) # numpy prints all numbers up to 2nd decimals "
   ]
  },
  {
   "cell_type": "markdown",
   "metadata": {},
   "source": [
    "The data data is taken from [*P. Cortez, A. Cerdeira, F. Almeida, T. Matos and J. Reis. In Decision Support Systems, Elsevier*](https://archive.ics.uci.edu/dataset/186/wine+quality). The inputs include objective tests (e.g. PH values) and the output is based on sensory data(median of at least 3 evaluations made by wine experts). Each expert graded the wine quality between 0 (very bad) and 10 (very excellent) of red and white variants of the Portuguese \"Vinho Verde\" wine.\n",
    "\n",
    "\n",
    "Input variables (based on physicochemical tests):\n",
    "\n",
    "1. fixed acidity\n",
    "2. volatile acidity\n",
    "3. citric acid\n",
    "4. residual sugar\n",
    "5. chlorides\n",
    "6. free sulfur dioxide\n",
    "7. total sulfur dioxide\n",
    "8. density\n",
    "9. pH\n",
    "10. sulphates\n",
    "11. alcohol\n",
    "12. color\n",
    "\n",
    "Output variable (based on sensory data): \n",
    "\n",
    "13. quality (score between 0 and 10)\n",
    "\n",
    "I'll import the data for you. Note, that the dataset mostly contains wines of mediocre quality."
   ]
  },
  {
   "cell_type": "code",
   "execution_count": 2,
   "metadata": {},
   "outputs": [
    {
     "name": "stdout",
     "output_type": "stream",
     "text": [
      "3      30\n",
      "4     216\n",
      "5    2138\n",
      "6    2836\n",
      "7    1079\n",
      "8     193\n",
      "9       5\n",
      "Name: quality, dtype: int64\n"
     ]
    },
    {
     "data": {
      "text/html": [
       "<div>\n",
       "<style scoped>\n",
       "    .dataframe tbody tr th:only-of-type {\n",
       "        vertical-align: middle;\n",
       "    }\n",
       "\n",
       "    .dataframe tbody tr th {\n",
       "        vertical-align: top;\n",
       "    }\n",
       "\n",
       "    .dataframe thead th {\n",
       "        text-align: right;\n",
       "    }\n",
       "</style>\n",
       "<table border=\"1\" class=\"dataframe\">\n",
       "  <thead>\n",
       "    <tr style=\"text-align: right;\">\n",
       "      <th></th>\n",
       "      <th>fixed acidity</th>\n",
       "      <th>volatile acidity</th>\n",
       "      <th>citric acid</th>\n",
       "      <th>residual sugar</th>\n",
       "      <th>chlorides</th>\n",
       "      <th>free sulfur dioxide</th>\n",
       "      <th>total sulfur dioxide</th>\n",
       "      <th>density</th>\n",
       "      <th>pH</th>\n",
       "      <th>sulphates</th>\n",
       "      <th>alcohol</th>\n",
       "      <th>quality</th>\n",
       "      <th>color</th>\n",
       "    </tr>\n",
       "  </thead>\n",
       "  <tbody>\n",
       "    <tr>\n",
       "      <th>0</th>\n",
       "      <td>7.0</td>\n",
       "      <td>0.27</td>\n",
       "      <td>0.36</td>\n",
       "      <td>20.7</td>\n",
       "      <td>0.045</td>\n",
       "      <td>45.0</td>\n",
       "      <td>170.0</td>\n",
       "      <td>1.0010</td>\n",
       "      <td>3.00</td>\n",
       "      <td>0.45</td>\n",
       "      <td>8.8</td>\n",
       "      <td>6</td>\n",
       "      <td>white</td>\n",
       "    </tr>\n",
       "    <tr>\n",
       "      <th>1</th>\n",
       "      <td>6.3</td>\n",
       "      <td>0.30</td>\n",
       "      <td>0.34</td>\n",
       "      <td>1.6</td>\n",
       "      <td>0.049</td>\n",
       "      <td>14.0</td>\n",
       "      <td>132.0</td>\n",
       "      <td>0.9940</td>\n",
       "      <td>3.30</td>\n",
       "      <td>0.49</td>\n",
       "      <td>9.5</td>\n",
       "      <td>6</td>\n",
       "      <td>white</td>\n",
       "    </tr>\n",
       "    <tr>\n",
       "      <th>2</th>\n",
       "      <td>8.1</td>\n",
       "      <td>0.28</td>\n",
       "      <td>0.40</td>\n",
       "      <td>6.9</td>\n",
       "      <td>0.050</td>\n",
       "      <td>30.0</td>\n",
       "      <td>97.0</td>\n",
       "      <td>0.9951</td>\n",
       "      <td>3.26</td>\n",
       "      <td>0.44</td>\n",
       "      <td>10.1</td>\n",
       "      <td>6</td>\n",
       "      <td>white</td>\n",
       "    </tr>\n",
       "    <tr>\n",
       "      <th>3</th>\n",
       "      <td>7.2</td>\n",
       "      <td>0.23</td>\n",
       "      <td>0.32</td>\n",
       "      <td>8.5</td>\n",
       "      <td>0.058</td>\n",
       "      <td>47.0</td>\n",
       "      <td>186.0</td>\n",
       "      <td>0.9956</td>\n",
       "      <td>3.19</td>\n",
       "      <td>0.40</td>\n",
       "      <td>9.9</td>\n",
       "      <td>6</td>\n",
       "      <td>white</td>\n",
       "    </tr>\n",
       "    <tr>\n",
       "      <th>4</th>\n",
       "      <td>7.2</td>\n",
       "      <td>0.23</td>\n",
       "      <td>0.32</td>\n",
       "      <td>8.5</td>\n",
       "      <td>0.058</td>\n",
       "      <td>47.0</td>\n",
       "      <td>186.0</td>\n",
       "      <td>0.9956</td>\n",
       "      <td>3.19</td>\n",
       "      <td>0.40</td>\n",
       "      <td>9.9</td>\n",
       "      <td>6</td>\n",
       "      <td>white</td>\n",
       "    </tr>\n",
       "  </tbody>\n",
       "</table>\n",
       "</div>"
      ],
      "text/plain": [
       "   fixed acidity  volatile acidity  citric acid  residual sugar  chlorides  \\\n",
       "0            7.0              0.27         0.36            20.7      0.045   \n",
       "1            6.3              0.30         0.34             1.6      0.049   \n",
       "2            8.1              0.28         0.40             6.9      0.050   \n",
       "3            7.2              0.23         0.32             8.5      0.058   \n",
       "4            7.2              0.23         0.32             8.5      0.058   \n",
       "\n",
       "   free sulfur dioxide  total sulfur dioxide  density    pH  sulphates  \\\n",
       "0                 45.0                 170.0   1.0010  3.00       0.45   \n",
       "1                 14.0                 132.0   0.9940  3.30       0.49   \n",
       "2                 30.0                  97.0   0.9951  3.26       0.44   \n",
       "3                 47.0                 186.0   0.9956  3.19       0.40   \n",
       "4                 47.0                 186.0   0.9956  3.19       0.40   \n",
       "\n",
       "   alcohol  quality  color  \n",
       "0      8.8        6  white  \n",
       "1      9.5        6  white  \n",
       "2     10.1        6  white  \n",
       "3      9.9        6  white  \n",
       "4      9.9        6  white  "
      ]
     },
     "execution_count": 2,
     "metadata": {},
     "output_type": "execute_result"
    }
   ],
   "source": [
    "wines: pd.DataFrame = pd.read_csv('winequality.csv')\n",
    "print(wines[\"quality\"].value_counts().sort_index())\n",
    "wines.head()"
   ]
  },
  {
   "cell_type": "markdown",
   "metadata": {},
   "source": [
    "You might notice that the `color` column is an odd one out. It's a categorical column in a otherwise numerical dataset. The Decision Tree will have difficulty to deal with this, so start by converting the categorical data as string to a numerical datatype.\n",
    "\n",
    "Another less obvious problem is, that the data type of quality is an integer. It's not a direct problem, but the plotting function expects string classes. Transform it to strings as well now.\n",
    "\n",
    "Transform the `color` column to a categorical datatype and create the new column `color numerical` by using its category codes. Alternatively, map the values of `color` to `1` for `\"white\"` and `0` for `\"red\"` to create the new `color numerical` column. Also transform the `quality` column to the `str` datatype."
   ]
  },
  {
   "cell_type": "code",
   "execution_count": 3,
   "metadata": {},
   "outputs": [
    {
     "data": {
      "text/html": [
       "<div>\n",
       "<style scoped>\n",
       "    .dataframe tbody tr th:only-of-type {\n",
       "        vertical-align: middle;\n",
       "    }\n",
       "\n",
       "    .dataframe tbody tr th {\n",
       "        vertical-align: top;\n",
       "    }\n",
       "\n",
       "    .dataframe thead th {\n",
       "        text-align: right;\n",
       "    }\n",
       "</style>\n",
       "<table border=\"1\" class=\"dataframe\">\n",
       "  <thead>\n",
       "    <tr style=\"text-align: right;\">\n",
       "      <th></th>\n",
       "      <th>fixed acidity</th>\n",
       "      <th>volatile acidity</th>\n",
       "      <th>citric acid</th>\n",
       "      <th>residual sugar</th>\n",
       "      <th>chlorides</th>\n",
       "      <th>free sulfur dioxide</th>\n",
       "      <th>total sulfur dioxide</th>\n",
       "      <th>density</th>\n",
       "      <th>pH</th>\n",
       "      <th>sulphates</th>\n",
       "      <th>alcohol</th>\n",
       "      <th>quality</th>\n",
       "      <th>color</th>\n",
       "      <th>color numerical</th>\n",
       "    </tr>\n",
       "  </thead>\n",
       "  <tbody>\n",
       "    <tr>\n",
       "      <th>0</th>\n",
       "      <td>7.0</td>\n",
       "      <td>0.27</td>\n",
       "      <td>0.36</td>\n",
       "      <td>20.7</td>\n",
       "      <td>0.045</td>\n",
       "      <td>45.0</td>\n",
       "      <td>170.0</td>\n",
       "      <td>1.001</td>\n",
       "      <td>3.0</td>\n",
       "      <td>0.45</td>\n",
       "      <td>8.8</td>\n",
       "      <td>6</td>\n",
       "      <td>white</td>\n",
       "      <td>1</td>\n",
       "    </tr>\n",
       "  </tbody>\n",
       "</table>\n",
       "</div>"
      ],
      "text/plain": [
       "   fixed acidity  volatile acidity  citric acid  residual sugar  chlorides  \\\n",
       "0            7.0              0.27         0.36            20.7      0.045   \n",
       "\n",
       "   free sulfur dioxide  total sulfur dioxide  density   pH  sulphates  \\\n",
       "0                 45.0                 170.0    1.001  3.0       0.45   \n",
       "\n",
       "   alcohol quality  color  color numerical  \n",
       "0      8.8       6  white                1  "
      ]
     },
     "execution_count": 3,
     "metadata": {},
     "output_type": "execute_result"
    }
   ],
   "source": [
    "wines[\"color\"] = wines[\"color\"].astype('category')\n",
    "wines[\"color numerical\"] = wines[\"color\"].cat.codes\n",
    "wines[\"quality\"] = wines[\"quality\"].astype(str).astype('category')\n",
    "wines.head(1)"
   ]
  },
  {
   "cell_type": "code",
   "execution_count": 4,
   "metadata": {
    "deletable": false,
    "editable": false
   },
   "outputs": [],
   "source": [
    "# Test cell\n",
    "\n",
    "assert \"color numerical\" in wines.columns, \"The column 'color numerical' is missing. Create it by converting the 'color' column to a numerical value.\"\n",
    "assert wines[\"color numerical\"].nunique() == 2, \"The 'color numerical' column should have 2 unique values.\"\n",
    "assert np.array(wines[\"color numerical\"].unique() == [1, 0]).all(), \"The 'color numerical' column should have the values 0 and 1.\""
   ]
  },
  {
   "cell_type": "markdown",
   "metadata": {},
   "source": [
    "Next, create a sub-`pd.DataFrame` of the features and a `pd.Series` with the target for the wine quality prediction. Also, split the features and the target into a train and a test set. The test set should contain 20% of the data.\n",
    "\n",
    "Create a `pd.DataFrame` called `features` and a `pd.Series` called `target`. Split these two variables into the variables `X_train`, `X_test`, `y_train`, `y_test` with the test variables containing 20% of the data. "
   ]
  },
  {
   "cell_type": "code",
   "execution_count": 5,
   "metadata": {},
   "outputs": [],
   "source": [
    "features_list: list = [\"fixed acidity\", \"volatile acidity\", \"citric acid\", \"residual sugar\", \"chlorides\", \"free sulfur dioxide\", \"total sulfur dioxide\", \"density\", \"pH\", \"sulphates\", \"alcohol\", \"color numerical\"]\n",
    "features: pd.DataFrame = wines[features_list]\n",
    "target: pd.Series = wines[\"quality\"]\n",
    "\n",
    "X_train: np.ndarray\n",
    "X_test: np.ndarray\n",
    "y_train: np.ndarray\n",
    "y_test: np.ndarray\n",
    "X_train, X_test, y_train, y_test = train_test_split(features, target, test_size=0.2, random_state=42)\n"
   ]
  },
  {
   "cell_type": "code",
   "execution_count": 6,
   "metadata": {
    "deletable": false,
    "editable": false
   },
   "outputs": [],
   "source": [
    "# Test cell\n",
    "\n",
    "test_size: float = 0.2\n",
    "train_size: float = 1 - test_size\n",
    "\n",
    "assert features is not None, \"The 'features' DataFrame is missing.\"\n",
    "assert target is not None, \"The 'target' Series is missing.\"\n",
    "assert X_train is not None, \"The 'X_train' array is missing.\"\n",
    "assert X_test is not None, \"The 'X_test' array is missing.\"\n",
    "assert y_train is not None, \"The 'y_train' array is missing.\"\n",
    "assert y_test is not None, \"The 'y_test' array is missing.\"\n",
    "\n",
    "assert features.shape[1] == 12, f\"The 'features' DataFrame has the wrong number of columns. Expected: 12, Actual: {features.shape[1]}\"\n",
    "\n",
    "assert X_train.shape[0] == int(wines.shape[0] * train_size), f\"The training set has the wrong number of samples. Expected: {int(wines.shape[0] * train_size)}, Actual: {X_train.shape[0]}\"\n",
    "assert X_test.shape[0] == int(wines.shape[0] * test_size)+1, f\"The test set has the wrong number of samples. Expected: {int(wines.shape[0] * test_size)+1}, Actual: {X_test.shape[0]}\"\n",
    "assert y_train.shape[0] == int(wines.shape[0] * train_size), f\"The training set has the wrong number of labels. Expected: {int(wines.shape[0] * train_size)}, Actual: {y_train.shape[0]}\"\n",
    "assert y_test.shape[0] == int(wines.shape[0] * test_size)+1, f\"The test set has the wrong number of labels. Expected: {int(wines.shape[0] * test_size)+1}, Actual: {y_test.shape[0]}\"\n"
   ]
  },
  {
   "cell_type": "markdown",
   "metadata": {},
   "source": [
    "Create your decision Tree. We now have a much higher dimensional problem and even worse: more possible classes. Our tree will be therefore much larger until a proper classification is possible. Let's use a depth of 12 levels.\n",
    "\n",
    "Create a variable for your tree called `tree_model`. Use a depth of 12, the gini-criterion and show it a random subset of 80% of the features at each level."
   ]
  },
  {
   "cell_type": "code",
   "execution_count": 7,
   "metadata": {},
   "outputs": [
    {
     "data": {
      "text/plain": [
       "DecisionTreeClassifier(max_depth=12, max_features=0.8)"
      ]
     },
     "execution_count": 7,
     "metadata": {},
     "output_type": "execute_result"
    }
   ],
   "source": [
    "tree_model: tree.DecisionTreeClassifier = tree.DecisionTreeClassifier(max_depth=12, criterion=\"gini\", max_features=0.8)\n",
    "tree_model.fit(X_train, y_train)"
   ]
  },
  {
   "cell_type": "code",
   "execution_count": 8,
   "metadata": {
    "deletable": false,
    "editable": false
   },
   "outputs": [],
   "source": [
    "# Test cell\n",
    "\n",
    "assert tree_model is not None, \"The model is missing. You should create a decision tree model.\"\n",
    "assert tree_model.max_depth == 12, \"The model should have a max depth of 12.\"\n",
    "assert tree_model.criterion == \"gini\", \"The model should use the 'gini' criterion.\"\n",
    "assert tree_model.max_features == 0.8, \"The model should use 80% of the features.\"\n",
    "assert hasattr(tree_model, \"tree_\"), \"The model has not been trained. You should fit the model to the training data.\""
   ]
  },
  {
   "cell_type": "markdown",
   "metadata": {},
   "source": [
    "You can try to plot the tree, but with 12 levels you need a quite large figure. Feel free to comment out the code and get an impression of the tree. Ideally, the final leaf nodes should be pure."
   ]
  },
  {
   "cell_type": "code",
   "execution_count": 9,
   "metadata": {},
   "outputs": [],
   "source": [
    "# plt.figure(figsize=(400, 30))\n",
    "# tree.plot_tree(tree_model, feature_names=features_list, class_names=tree_model.classes_, filled=True, precision=1, fontsize=5)\n",
    "# plt.show()"
   ]
  },
  {
   "cell_type": "markdown",
   "metadata": {},
   "source": [
    "Now that we have trained the model, we can use it to make predictions on the test set. We can then evaluate the model's performance by comparing the predicted labels to the actual labels in the test set.\n",
    "\n",
    "Then, calculate the accuracy and recall of the model using the test set labels and the predicted labels.\n",
    "Plot the confusion matrix using the test set labels and the predicted labels.\n",
    "\n",
    "Finally, also calculate the mean absolute error to assess how wrong the model is on average. Also the R2-score will give you a comparison to simply guessing the mean of the distribution.\n",
    "\n",
    "Create a variable called `y_predict` and assign it the predicted labels for the test set. Assign the `accuarcy`, `recall`, `MAE` and `R2` to variables of the same name.\n"
   ]
  },
  {
   "cell_type": "code",
   "execution_count": 18,
   "metadata": {},
   "outputs": [
    {
     "name": "stdout",
     "output_type": "stream",
     "text": [
      "['7' '7' '6' '6' '5']\n",
      "[7 7 6 6 5]\n",
      "Accuracy: 0.58\n",
      "Recall: 0.58\n",
      "Mean Absolute Error: 0.49\n",
      "R2 Score: 0.09\n"
     ]
    },
    {
     "data": {
      "image/png": "[encoded data removed]",
      "text/plain": [
       "<Figure size 640x480 with 2 Axes>"
      ]
     },
     "metadata": {},
     "output_type": "display_data"
    }
   ],
   "source": [
    "y_predict: np.ndarray = tree_model.predict(X_test)\n",
    "\n",
    "accuracy: float = accuracy_score(y_test, y_predict)\n",
    "recall: float = recall_score(y_test, y_predict, average=\"weighted\", zero_division=0)\n",
    "MAE: float = mean_absolute_error(y_test, y_predict) # Works with strings because the method converts them to numbers\n",
    "R2: float = r2_score(y_test, y_predict) # Works with strings because the method converts them to numbers\n",
    "print(f\"Accuracy: {accuracy:.2f}\")\n",
    "print(f\"Recall: {recall:.2f}\")\n",
    "\n",
    "print(f\"Mean Absolute Error: {MAE:.2f}\")\n",
    "print(f\"R2 Score: {R2:.2f}\")\n",
    "\n",
    "cm: np.ndarray = confusion_matrix(y_test, y_predict, labels=tree_model.classes_)\n",
    "disp: ConfusionMatrixDisplay = ConfusionMatrixDisplay(confusion_matrix=cm, display_labels=tree_model.classes_)\n",
    "disp.plot()\n",
    "plt.show()"
   ]
  },
  {
   "cell_type": "markdown",
   "metadata": {
    "tags": [
     "parameters"
    ]
   },
   "source": [
    "Instead of using a single decision tree, you can use a random forest to improve the model's performance. A random forest is an ensemble learning method that creates multiple decision trees and combines their predictions. This approach can help reduce overfitting and improve the model's accuracy.\n",
    "\n",
    "Create a random forest classifier named `forest_model` with the following parameters: - n_estimators: 100 - max_depth: 12 - criterion: \"gini\" - max_features: 0.8.\n",
    "Fit the model to the training data."
   ]
  },
  {
   "cell_type": "code",
   "execution_count": 11,
   "metadata": {},
   "outputs": [
    {
     "data": {
      "text/plain": [
       "RandomForestClassifier(max_depth=12, max_features=0.8, n_estimators=500)"
      ]
     },
     "execution_count": 11,
     "metadata": {},
     "output_type": "execute_result"
    }
   ],
   "source": [
    "forest_model: RandomForestClassifier = RandomForestClassifier(n_estimators=500, max_depth=12, criterion=\"gini\", max_features=0.8)\n",
    "forest_model.fit(X_train, y_train)"
   ]
  },
  {
   "cell_type": "code",
   "execution_count": 12,
   "metadata": {
    "deletable": false,
    "editable": false
   },
   "outputs": [],
   "source": [
    "# Test cell\n",
    "\n",
    "assert forest_model is not None, \"The model is missing. You should create a random forest model.\"\n",
    "assert forest_model.n_estimators == 500, \"The model should have 500 estimators.\"\n",
    "assert forest_model.max_depth == 12, \"The model should have a max depth of 12.\"\n",
    "assert forest_model.criterion == \"gini\", \"The model should use the 'gini' criterion.\"\n",
    "assert forest_model.max_features == 0.8, \"The model should use 80% of the features.\"\n",
    "assert hasattr(forest_model, \"estimators_\"), \"The model has not been trained. You should fit the model to the training data.\""
   ]
  },
  {
   "cell_type": "markdown",
   "metadata": {},
   "source": [
    "Again, we can evaluate the model using the test data and the metrics we have used before.\n",
    "\n",
    "Create a variable called `y_predict` and assign it the predicted labels for the test set. Assign the `accuarcy`, `recall`, `MAE`, and `R2` to the variables `accuracy`, `recall`, `MAE`, and `R2` respectively and print them. Finally, print the confusion matrix."
   ]
  },
  {
   "cell_type": "code",
   "execution_count": 13,
   "metadata": {},
   "outputs": [
    {
     "name": "stdout",
     "output_type": "stream",
     "text": [
      "Accuracy: 0.67\n",
      "Recall: 0.67\n",
      "Mean Absolute Error: 0.36\n",
      "R2 Score: 0.42\n"
     ]
    },
    {
     "data": {
      "image/png": "[encoded data removed]",
      "text/plain": [
       "<Figure size 640x480 with 2 Axes>"
      ]
     },
     "metadata": {},
     "output_type": "display_data"
    }
   ],
   "source": [
    "y_predict: np.ndarray = forest_model.predict(X_test)\n",
    "\n",
    "accuracy: float = accuracy_score(y_test, y_predict)\n",
    "recall: float = recall_score(y_test, y_predict, average=\"weighted\", zero_division=0)\n",
    "MAE: float = mean_absolute_error(np.array(y_test), np.array(y_predict))\n",
    "R2: float = r2_score(np.array(y_test), np.array(y_predict))\n",
    "print(f\"Accuracy: {accuracy:.2f}\")\n",
    "print(f\"Recall: {recall:.2f}\")\n",
    "print(f\"Mean Absolute Error: {MAE:.2f}\")\n",
    "print(f\"R2 Score: {R2:.2f}\")\n",
    "\n",
    "cm: np.ndarray = confusion_matrix(y_test, y_predict, labels=forest_model.classes_)\n",
    "disp: ConfusionMatrixDisplay = ConfusionMatrixDisplay(confusion_matrix=cm, display_labels=forest_model.classes_)\n",
    "disp.plot()\n",
    "plt.show()"
   ]
  },
  {
   "cell_type": "markdown",
   "metadata": {},
   "source": [
    "Did the forest perform better than the tree? Can you still improve the results?"
   ]
  }
 ],
 "metadata": {
  "kernelspec": {
   "display_name": "ml4chem",
   "language": "python",
   "name": "python3"
  },
  "language_info": {
   "codemirror_mode": {
    "name": "ipython",
    "version": 3
   },
   "file_extension": ".py",
   "mimetype": "text/x-python",
   "name": "python",
   "nbconvert_exporter": "python",
   "pygments_lexer": "ipython3",
   "version": "3.7.16"
  }
 },
 "nbformat": 4,
 "nbformat_minor": 2
}

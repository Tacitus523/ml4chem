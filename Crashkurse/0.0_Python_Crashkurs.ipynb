{
 "cells": [
  {
   "cell_type": "markdown",
   "metadata": {
    "id": "ys4cpvPi4XFN"
   },
   "source": [
    "# Hallo!\n",
    "Liebe Studierende, vielen lieben Dank das Sie sich für die Vorlesung \"Maschinelles Lernen für die Chemie\" im SoSe 24 interessieren. Dieses kleine Tutorial soll Ihnen ein paar Grundzüge des Programmierens in Python in einer sogenannten interaktiven Umgebung zeigen. Hierzu ist Jupyter Lab bzw. ein Jupyter Notebook in Blöcke unterteilt, welche man einzeln ausführen kann."
   ]
  },
  {
   "cell_type": "markdown",
   "metadata": {
    "id": "vJDObaGj4XFQ"
   },
   "source": [
    "Klicken Sie z.B. in den nächsten Block so, dass der Text aktiviert wird und führen sie dann die Tastenkombination \"Umschalt+Enter\" aus:"
   ]
  },
  {
   "cell_type": "code",
   "execution_count": null,
   "metadata": {
    "id": "lz3CAidv4XFR"
   },
   "outputs": [],
   "source": [
    "print(\"Hallo Welt\")"
   ]
  },
  {
   "cell_type": "markdown",
   "metadata": {
    "id": "bF6XcyZD4XFT"
   },
   "source": [
    "Sie haben damit das erste mal erfolgreich Python-Code ausgeführt. Im Folgenden werden wir die Grundzüge von Python kennenlernen. Python hat einen leichten Einstieg und kann u.U. auch sehr kompliziert, aber auch sehr mächtig sein. Sie lernen hier also etwas fürs Leben."
   ]
  },
  {
   "cell_type": "markdown",
   "metadata": {
    "id": "tgO5eWAI4XFT"
   },
   "source": [
    "# Syntax\n",
    "\n",
    "Jede Programmiersprache hat eine Syntax, welche wir im Detail kennenlernen werden. Das wichtigste beim Programmieren sind die Kommentare! Einen Kommentar erstellt man, indem man einen Hashtag setzt und somit alles in der Zeile ab dem Hashtag als Kommentar setzt:"
   ]
  },
  {
   "cell_type": "code",
   "execution_count": null,
   "metadata": {
    "id": "iNTXSgl04XFT"
   },
   "outputs": [],
   "source": [
    "#Ein blöder Kommentar!"
   ]
  },
  {
   "cell_type": "markdown",
   "metadata": {
    "id": "Bv4KL7zD4XFU"
   },
   "source": [
    "Es wird einfach alles ab dem # ignoriert ... praktisch! Python unterstützt technisch gesehen keine mehrzeiligen Kommentare ... man kann aber ein wenig tricksen mit drei Apostrophen am Anfang und Ende eines Kommentares. Das geht so:"
   ]
  },
  {
   "cell_type": "code",
   "execution_count": null,
   "metadata": {
    "id": "SqSj4W8z4XFU",
    "outputId": "c715f735-a453-4f1a-abcb-bfe9b571e3ec"
   },
   "outputs": [],
   "source": [
    "'''\n",
    "In Ulm\n",
    "um Ulm\n",
    "und um Ulm herum.\n",
    "'''"
   ]
  },
  {
   "cell_type": "markdown",
   "metadata": {
    "id": "iNjPY9h94XFV"
   },
   "source": [
    "(für die Pedanten ... das ist eigentlich ein mehrzeiliger String)"
   ]
  },
  {
   "cell_type": "markdown",
   "metadata": {
    "id": "FbQ5y3E24XFV"
   },
   "source": [
    "Jede Programmiersprache arbeitet mit Variablen, also Platzhaltern, in denen Werte gespeicher werden können. Python ist eine dynamisch typisierte Programmiersprache, d.h. dass beim Zuweisen eines Wertes der Typ der Variable entschieden wird. Unter der Haube ist Python etwas komplexer, aber hier sind die wichtigsten Typen von Variablen für diese Vorlesung. Variablen in Python fangen immer mit einem Buchstaben oder Unterstrich an und sollten aussagekräftig sein."
   ]
  },
  {
   "cell_type": "code",
   "execution_count": null,
   "metadata": {
    "id": "A2juIx0P4XFV"
   },
   "outputs": [],
   "source": [
    "#Zahlen z.B. floats also Fliesskommazahlen\n",
    "masseC = 12.0107 #km\n",
    "#Strings also Zeichenreihenfolgen müssen von \" oder ' flankiert werden \n",
    "einheit = \"au\" #oder\n",
    "einheit = 'au'\n",
    "#Ganzzahlen gehen auch\n",
    "anzahlProtonen = 6"
   ]
  },
  {
   "cell_type": "markdown",
   "metadata": {
    "id": "PfzM1SLo4XFW"
   },
   "source": [
    "Python ist hier etwas besonders, da man unterschiedliche Typen miteinander kombinieren kann. So kann ich eine Ganzzahl und eine Fließkommazahl addieren und ausgeben:"
   ]
  },
  {
   "cell_type": "code",
   "execution_count": null,
   "metadata": {
    "id": "YiGV6Jl74XFW",
    "outputId": "21674b55-63ee-4136-fe47-f30b36f05751"
   },
   "outputs": [],
   "source": [
    "protonen =  92 #U\n",
    "masse = 238.02891 #au\n",
    "neutronenProProton = masse / protonen\n",
    "print(neutronenProProton) #durchschnittlich"
   ]
  },
  {
   "cell_type": "markdown",
   "metadata": {
    "id": "TYVEJxmF4XFW"
   },
   "source": [
    "Hier macht Python \"unter der Haube\" eine Entscheidung, welcher Datentyp der Richtige ist. Viele Sprachen nehmen uns diese Arbeit sonst nicht ab. Interessant wird es, wenn ich Zeichen und Zahlen addieren möchte:"
   ]
  },
  {
   "cell_type": "code",
   "execution_count": null,
   "metadata": {
    "id": "JYiEksG44XFW"
   },
   "outputs": [],
   "source": [
    "text = \"abcdefg\"\n",
    "zahl = 3.141\n",
    "komischeSumme = text + zahl"
   ]
  },
  {
   "cell_type": "markdown",
   "metadata": {
    "id": "m9pYAKxt4XFW"
   },
   "source": [
    "Sie sollten einen rot eingefärbten Kasten erhalten haben, welcher von einem TypeError spricht, da man einen `str` nicht mit einem `float` addieren kann. Wenn wir dies trotzdem machen möchten, müssten wir dem Interpreter etwas helfen und ihm sagen das wir am Ende einen `str` erhalten möchten über:"
   ]
  },
  {
   "cell_type": "code",
   "execution_count": null,
   "metadata": {
    "id": "flISDR1H4XFX"
   },
   "outputs": [],
   "source": [
    "komischeSumme = text + str(zahl)\n",
    "print(komischeSumme)"
   ]
  },
  {
   "cell_type": "markdown",
   "metadata": {
    "id": "8wwvqoVt4XFX"
   },
   "source": [
    "was `str(zahl)` macht ist folgendes:\\\n",
    "Die (eingebaute) Funktion str wird aufgerufen mit dem Argument Zahl.\\\n",
    "Dann gibt uns str einen Rückgabewert welchen wir in `komischeSumme` speichern.\\\n",
    "Man nennt dies das EVA-Prinzip für Eingabe-Verarbeitung-Ausgabe"
   ]
  },
  {
   "cell_type": "markdown",
   "metadata": {
    "id": "0k1f8KcN4XFX"
   },
   "source": [
    "Ein sehr wichtiger Variablenyp ist die sogenannte Liste, welche man mit `[]` oder `list` erzeugt. Python hat viele \"Abkürzungen\" die einem das Leben einfacher und den Code lesbarer gestalten. Ein Beispiel:"
   ]
  },
  {
   "cell_type": "code",
   "execution_count": null,
   "metadata": {
    "id": "mOpdWVio4XFX"
   },
   "outputs": [],
   "source": [
    "elektronegativität = [1.008,4.0026,6.94,9.01,10.81,12.011,14.007,15.999,18.998]"
   ]
  },
  {
   "cell_type": "markdown",
   "metadata": {
    "id": "i9sp7Rjo4XFX"
   },
   "source": [
    "Möchte ich nun das erste Element der Liste haben, dann bekomme ich dies über:"
   ]
  },
  {
   "cell_type": "code",
   "execution_count": null,
   "metadata": {
    "id": "YhhsbTo54XFX",
    "outputId": "eb8189ff-ee60-4d02-c9a5-19cb7e918a0e"
   },
   "outputs": [],
   "source": [
    "elektronegativität[0]"
   ]
  },
  {
   "cell_type": "markdown",
   "metadata": {
    "id": "7iodwgxG4XFX"
   },
   "source": [
    "**Python zählt immer von 0 aus !**\n",
    "\n",
    "Das dritte Element meiner Liste ist demnach:"
   ]
  },
  {
   "cell_type": "code",
   "execution_count": null,
   "metadata": {
    "id": "TD0pQeKM4XFY",
    "outputId": "73d79a99-84db-4224-f501-a0ca9cf8ada6"
   },
   "outputs": [],
   "source": [
    "elektronegativität[2]"
   ]
  },
  {
   "cell_type": "markdown",
   "metadata": {
    "id": "T09apP-J4XFY"
   },
   "source": [
    "Das letzte Element meiner Liste erhalte ich über (und ja Python zählt vorwärts von 0 und rückwärts von -1!):"
   ]
  },
  {
   "cell_type": "code",
   "execution_count": null,
   "metadata": {
    "id": "r7dYIz4y4XFY",
    "outputId": "81d70bde-67b8-4ecf-98ef-963178063312"
   },
   "outputs": [],
   "source": [
    "elektronegativität[-1]"
   ]
  },
  {
   "cell_type": "markdown",
   "metadata": {
    "id": "YFb-NiPI4XFY"
   },
   "source": [
    "Ich kann auch Werte in der Liste ändern und zwar so:"
   ]
  },
  {
   "cell_type": "code",
   "execution_count": null,
   "metadata": {
    "id": "SYb0ayeN4XFY",
    "outputId": "641f6247-1a79-4bd5-a958-3c88a960d8c7"
   },
   "outputs": [],
   "source": [
    "print(elektronegativität[0]) #zu genau\n",
    "elektronegativität[0] = 1.01 #gerundet\n",
    "print(elektronegativität[0])"
   ]
  },
  {
   "cell_type": "markdown",
   "metadata": {
    "id": "mM_A7xoS4XFY"
   },
   "source": [
    "Listen sind sogenannte geordnete Variablen da sie entlang einer Reihe zu sehen sind. Ein unsortierter Datentyp ist das `dict`, welches man entweder über {key:value} bzw. {SchlüsselWort:Wert} erzeugt:"
   ]
  },
  {
   "cell_type": "code",
   "execution_count": null,
   "metadata": {
    "id": "iyuJo3mi4XFY"
   },
   "outputs": [],
   "source": [
    "Cr = {'Masse':51.996, 'Ordnungszah':24, 'Name':'Chrom', 'Radioaktiv': False, 0:'Fest'}"
   ]
  },
  {
   "cell_type": "markdown",
   "metadata": {
    "id": "2Y8qf8Mv4XFY"
   },
   "source": [
    "Möchte ich nun wissen, ob Cr radioaktiv ist, dann gehe ich fast wie mit einer Liste vor:"
   ]
  },
  {
   "cell_type": "code",
   "execution_count": null,
   "metadata": {
    "id": "7nSYjuqZ4XFY",
    "outputId": "73859e9b-553a-45da-ba73-a7720fdf3804"
   },
   "outputs": [],
   "source": [
    "print(Cr['Radioaktiv'])"
   ]
  },
  {
   "cell_type": "markdown",
   "metadata": {
    "id": "s8J3ux804XFY"
   },
   "source": [
    "Dieser Variablentyp ist übrigens ein `bool`, der entweder True oder False ist"
   ]
  },
  {
   "cell_type": "markdown",
   "metadata": {
    "id": "KIOuzn6M4XFY"
   },
   "source": [
    "# Funktionen\n",
    "Oft möchte ich eine Operation sehr oft durchführen z.B. die Umrechnung von °C in Kelvin. Hierzu nutzt man Funktionen. Diese werden durch ein Keyword namens `def` eingeleitet und haben ein oder mehrere Argumente. Der Aufbau einer Funktion sieht dann so aus:"
   ]
  },
  {
   "cell_type": "code",
   "execution_count": null,
   "metadata": {
    "id": "tEQyhaGZ4XFZ"
   },
   "outputs": [],
   "source": [
    "def meineFunktion(argumentEins,argument2,optionalesArgumentDasStandardmässig2ist=2):\n",
    "    #hier passieren dinge. Achtung dies muss mit einem tab indentiert werden!\n",
    "    resultat = (argumentEins+argument2)/optionalesArgumentDasStandardmässig2ist\n",
    "    return resultat"
   ]
  },
  {
   "cell_type": "markdown",
   "metadata": {
    "id": "8BV21EHW4XFZ"
   },
   "source": [
    "Diese Funktion gibt dann das Resultat via `return` zurück. Ein kleiner Test:"
   ]
  },
  {
   "cell_type": "code",
   "execution_count": null,
   "metadata": {
    "id": "Cq7Tu6qW4XFZ"
   },
   "outputs": [],
   "source": [
    "meineFunktion(3,5)"
   ]
  },
  {
   "cell_type": "code",
   "execution_count": null,
   "metadata": {
    "id": "9RIddd6A4XFZ"
   },
   "outputs": [],
   "source": [
    "#Mit dem optionalen Argument:\n",
    "meineFunktion(3,5,4)"
   ]
  },
  {
   "cell_type": "markdown",
   "metadata": {
    "id": "OVxNFlY54XFZ"
   },
   "source": [
    "Ich muss mich nicht an die Reihenfolge der zwingend notwendigen Argumente halten. Allerdings müssen zuerst die zwingenden und dann die optionalen Argumente gesetzt werden. In diesem Fall muss ich auch alle Argumente benennen"
   ]
  },
  {
   "cell_type": "code",
   "execution_count": null,
   "metadata": {
    "id": "VLZmsHuY4XFZ",
    "outputId": "dd6e586c-f457-42a5-f172-cd02c2fc59a8"
   },
   "outputs": [],
   "source": [
    "meineFunktion(optionalesArgumentDasStandardmässig2ist=4,argument2=5,argumentEins=3)"
   ]
  },
  {
   "cell_type": "markdown",
   "metadata": {
    "id": "M3blyAaj4XFZ"
   },
   "source": [
    "Funktionen könne auch mehrere Variablen zurückgeben. Hier ein etwas komplexeres Beispiel zum Verstehen und Testen:"
   ]
  },
  {
   "cell_type": "code",
   "execution_count": null,
   "metadata": {
    "id": "UMglndrR4XFZ"
   },
   "outputs": [],
   "source": [
    "def Celsius2Others(temp):\n",
    "    kelvin = temp+273.15\n",
    "    fahrenheit = (temp * 9/5) + 32 #WHY??\n",
    "    return {'K':kelvin,'F':fahrenheit}"
   ]
  },
  {
   "cell_type": "code",
   "execution_count": null,
   "metadata": {
    "id": "I0FFPyZK4XFZ",
    "outputId": "4650bc9d-7bb3-445c-912e-60368308ffc7"
   },
   "outputs": [],
   "source": [
    "Celsius2Others(0)"
   ]
  },
  {
   "cell_type": "markdown",
   "metadata": {
    "id": "MTOchWYA4XFZ"
   },
   "source": [
    "# Schleifen"
   ]
  },
  {
   "cell_type": "markdown",
   "metadata": {
    "id": "niyvw8T54XFZ"
   },
   "source": [
    "Manchmal möchte man eine Sache öfters tun - zum Beispiel viele Temperaturen umrechnen. Das macht man in Python über eine `for` Schleife. In einer Schleife wird der Code in der Schleife mit einem sogenannten Iterator über eine Iteratable laufen gelassen. Der Code sieht dann so aus:"
   ]
  },
  {
   "cell_type": "code",
   "execution_count": null,
   "metadata": {
    "id": "0jvwNdwA4XFZ"
   },
   "outputs": [],
   "source": [
    "for x in range(5):\n",
    "    print(x)"
   ]
  },
  {
   "cell_type": "markdown",
   "metadata": {
    "id": "V33T6y5-4XFa"
   },
   "source": [
    "In normaler Sprache wäre das: Für jeden Iterator mit dem Variablenname `x` in dem zu iterierendem etwas namens `range(5)` führe `print(x)` aus. `range(5)` iteriert die zahlen 0,1,2,3,4. Ich kann dies auch über eine Liste machen ... dann wird es evtl. klarer:"
   ]
  },
  {
   "cell_type": "code",
   "execution_count": null,
   "metadata": {
    "id": "k0wssfgw4XFa",
    "outputId": "b026f0dc-b12f-4062-d74d-69e52c84552f"
   },
   "outputs": [],
   "source": [
    "elektronegativitäten = [1.008,4.0026,6.94,9.01,10.81,12.011,14.007,15.999,18.998]\n",
    "for elektronegativität in elektronegativitäten:\n",
    "    print(elektronegativität)"
   ]
  },
  {
   "cell_type": "markdown",
   "metadata": {
    "id": "0f1bseNk4XFa"
   },
   "source": [
    "Meistens macht man kleinere Schleifen mit einer sogenannten *list comprehension*, d.h. man schreibt einen einzeiler. Wenn man z.B. die Quadrate von Zahlen berechnen wollen würde könnte man folgendes tun in 3-Leveln der \"Professionalität\". Hierbei kann man die Lesbarkeit sehr stark erhöhen (alle Level machen das exakt gleiche!):"
   ]
  },
  {
   "cell_type": "markdown",
   "metadata": {
    "id": "78BK0KD24XFa"
   },
   "source": [
    "## Level 1:"
   ]
  },
  {
   "cell_type": "code",
   "execution_count": null,
   "metadata": {
    "id": "EeG-rC2H4XFa"
   },
   "outputs": [],
   "source": [
    "meineZahlen = [1,2,3,4,5,6,7,8,9,10]\n",
    "meineQuadrate = [] #platzhalter für gleich. Man kann an Listen anhängen -> append\n",
    "for zahl in meineZahlen:\n",
    "    meinQuadrat = zahl**2 #so macht man ^2 in python\n",
    "    meineQuadrate.append(meinQuadrat)"
   ]
  },
  {
   "cell_type": "code",
   "execution_count": null,
   "metadata": {
    "id": "kg0kYnG94XFa"
   },
   "outputs": [],
   "source": [
    "print(meineQuadrate)"
   ]
  },
  {
   "cell_type": "markdown",
   "metadata": {
    "id": "8mablI9q4XFa"
   },
   "source": [
    "## Level 2:"
   ]
  },
  {
   "cell_type": "code",
   "execution_count": null,
   "metadata": {
    "id": "_fwlctqu4XFa"
   },
   "outputs": [],
   "source": [
    "meineQuadrate = [] #Platzhalter für gleich. Man kann an Listen anhängen -> append\n",
    "for zahl in range(1,11): #range(1,11) läuft von 1 bis 10\n",
    "    meinQuadrat = zahl**2 #so macht man ^2 in python\n",
    "    meineQuadrate.append(meinQuadrat)"
   ]
  },
  {
   "cell_type": "code",
   "execution_count": null,
   "metadata": {
    "id": "_X8qTnb14XFa"
   },
   "outputs": [],
   "source": [
    "print(meineQuadrate)"
   ]
  },
  {
   "cell_type": "markdown",
   "metadata": {
    "id": "vyzDbJUW4XFa"
   },
   "source": [
    "## Level 3:"
   ]
  },
  {
   "cell_type": "code",
   "execution_count": null,
   "metadata": {
    "id": "CHnPZtPZ4XFa"
   },
   "outputs": [],
   "source": [
    "meineQuadrate = [zahl**2 for zahl in range(1,11)]"
   ]
  },
  {
   "cell_type": "code",
   "execution_count": null,
   "metadata": {
    "id": "0l9ezQz04XFa"
   },
   "outputs": [],
   "source": [
    "print(meineQuadrate)"
   ]
  },
  {
   "cell_type": "markdown",
   "metadata": {
    "id": "qgVSTCSA4XFa"
   },
   "source": [
    "Man kann eine Comprehension auch mit einem `dict` machen dann muss man allerdings Werte und Schlüsselwörter iterieren:"
   ]
  },
  {
   "cell_type": "code",
   "execution_count": null,
   "metadata": {
    "id": "aH80Rtiu4XFa"
   },
   "outputs": [],
   "source": [
    "abc = 'abcdefghijklmnopqrstuvwxyz'\n",
    "meinDict = {key:value**2 for key,value in zip(abc,range(len(abc)))}\n",
    "print(meinDict)"
   ]
  },
  {
   "cell_type": "markdown",
   "metadata": {
    "id": "3MjbXKIS4XFa"
   },
   "source": [
    "Was macht der Code in der obrigen Zeile?\n",
    "\n",
    "Man kann eine `for` Schleife über mehrere Iteratoren **gleichzeitig** laufen lassen, nur muss man diese zusammen\"zippen\" mit `zip`. Das Kommando `len` gibt mit die Länge einer Liste oder eines String zurück. Dieser Code erzeugt also ein `dict` mit den Schlüsselwörtern der Buchstaben des Alphabets, in dem die Quadrate der Position gespeichert werden."
   ]
  },
  {
   "cell_type": "markdown",
   "metadata": {
    "id": "fYBiTQ2E4XFb"
   },
   "source": [
    "# Wenn ... dann ..."
   ]
  },
  {
   "cell_type": "markdown",
   "metadata": {
    "id": "KcD3y7zh4XFb"
   },
   "source": [
    "Ab und zu muss man Entscheidungen treffen. Das geht mit `if else` in Python:"
   ]
  },
  {
   "cell_type": "code",
   "execution_count": null,
   "metadata": {
    "id": "i9V1lMWr4XFb",
    "outputId": "f02c0de6-6e17-496a-e804-28e4f6982701"
   },
   "outputs": [],
   "source": [
    "tempCelsius = 0 # °C\n",
    "tempKelvin = tempCelsius+273.15 #K\n",
    "if tempKelvin < 0:\n",
    "    print('Nicht physikalische Temperatur')\n",
    "else:\n",
    "    print('Die Temperatur ist {} K'.format(tempKelvin))  "
   ]
  },
  {
   "cell_type": "markdown",
   "metadata": {
    "id": "fow3Nnhl4XFb"
   },
   "source": [
    "**Aufgabe: Ändern Sie doch mal die Temperatur so, dass die Warnung ausgegeben wird.**\n",
    "\n",
    "Die zweite `print` Ausgabe nutzt `.format` um `tempKelvin` in die Nachricht einzubauen.\n",
    "\n",
    "Ein Cheat Sheet für das Formatieren von Strings ist hier zu finden: https://pyformat.info"
   ]
  },
  {
   "cell_type": "markdown",
   "metadata": {
    "id": "4KGr7ngC4XFb"
   },
   "source": [
    "**Aufgabe: Ändern Sie doch mal die Funktion `Celsius2Others` weiter oben im Notebook so ab, dass sie Warnungen ausgeben kann.**"
   ]
  },
  {
   "cell_type": "markdown",
   "metadata": {
    "id": "EnIb80cW4XFb"
   },
   "source": [
    "# Importe"
   ]
  },
  {
   "cell_type": "markdown",
   "metadata": {
    "id": "1qcQpdpC4XFb"
   },
   "source": [
    "Es gibt unzählige Pakete für Python, welche die verschiedensten Aufgaben erledigen. Win paar der wichtigsten sind `numpy`, `matplotlib` und `pickle`, wobei letzteres mit jeder Pythoninstallation mitgeliefert wird."
   ]
  },
  {
   "cell_type": "markdown",
   "metadata": {
    "id": "TZ4nnR_d4XFb"
   },
   "source": [
    "Generell muss man diese Pakete alerdings erst einmal in das Skript/Programm importieren. Das macht man via\n",
    "```python\n",
    "import paket\n",
    "```"
   ]
  },
  {
   "cell_type": "markdown",
   "metadata": {
    "id": "YU4MmG-C4XFb"
   },
   "source": [
    "Man kann dem Paket aber auch einen lokalen \"Spitznamen\" geben, was bei längeren Paketnamen oft von Vorteil ist:\n",
    "```python\n",
    "import numpy as np\n",
    "```\n",
    "Einzelne Unterfunktionen eines Paketes lassen sich einzeln importieren und zwar mit der Syntax:\n",
    "\n",
    "```python\n",
    "from matplotlib import pyplot\n",
    "```\n",
    "\n",
    "Ich kann dann auf die Funktionen von `numpy` zugreifen indem ich \n",
    "```python\n",
    "np.funktionsName()\n",
    "```\n",
    "aufrufe. Ein Beispiel:"
   ]
  },
  {
   "cell_type": "code",
   "execution_count": null,
   "metadata": {
    "id": "ujN3WtLV4XFb",
    "outputId": "2bcad0c5-ddc5-4747-cb5b-36bb4277d0ae"
   },
   "outputs": [],
   "source": [
    "import numpy as np\n",
    "np.sin(np.pi)"
   ]
  },
  {
   "cell_type": "markdown",
   "metadata": {
    "id": "srXlpt3v4XFb"
   },
   "source": [
    "Eine Art numerisches 0 da sin(pi)=0 ist. Ein sehr wichtiger Datentyp ist der `numpy array`, welcher viele Eigenschaften einer Liste hat, jedoch mehr Funktionen hat, wie z.B. slices. Nehmen wir z.B eine Matrix welche die Ordnungzahlen von Mn, Fe ,Co ,Tc ,Ru ,Rh, Re, Os, Ir hat. Als Liste sähe das so aus (... eine Liste von Listen):"
   ]
  },
  {
   "cell_type": "code",
   "execution_count": null,
   "metadata": {
    "id": "5JLxKPjh4XFb"
   },
   "outputs": [],
   "source": [
    "matrixList = [[24,25,26],[42,43,44],[74,75,76]]\n",
    "matrixNumpy = np.array(matrixList)"
   ]
  },
  {
   "cell_type": "markdown",
   "metadata": {
    "id": "krx8m_da4XFb"
   },
   "source": [
    "Nun kann ich vertikale und horizontale Schnitte durch meine matrix legen (geht nur bedingt mit der Liste):"
   ]
  },
  {
   "cell_type": "code",
   "execution_count": null,
   "metadata": {
    "id": "q0N314FE4XFb",
    "outputId": "6fb6dd58-649e-4959-fcc2-064d12e28bfe"
   },
   "outputs": [],
   "source": [
    "print(matrixNumpy[:,1])"
   ]
  },
  {
   "cell_type": "code",
   "execution_count": null,
   "metadata": {
    "id": "B1rx9Fwc4XFb",
    "outputId": "88d183ec-3ba5-4a26-8dff-a38e24046fcb"
   },
   "outputs": [],
   "source": [
    "#Das geht nicht\n",
    "print(matrixList[:,1])"
   ]
  },
  {
   "cell_type": "code",
   "execution_count": null,
   "metadata": {
    "id": "4cViXYay4XFb",
    "outputId": "9728a30a-c729-4de6-8614-cff2b31601ea"
   },
   "outputs": [],
   "source": [
    "#seeeehr umständlich und unleserlich\n",
    "print([matrixList[i][1] for i in range(3)])"
   ]
  },
  {
   "cell_type": "markdown",
   "metadata": {},
   "source": [
    "Während einige Pakete bei der Installation von Python mitinstalliert werden, müssen andere Pakete einzeln installiert werden, bevor andere Skripte auf sie zugreifen können. Installationen von Python-Libraries übernimmt euer *Package-Manager*. Falls ihr der Installations-Anleitung gefolgt seid, dann verfügt ihr über den *anaconda* Paket-Manager. Mit diesem können zusätzliche Pakete mit dem Befehl ```conda install Paket``` im Terminal installiert werden. Der Standard-Paket-Manager **pip** ist in anaconda ebenfalls verfügbar: ```pip install Paket```.\n",
    "\n",
    "Lokaler Import eigener Projekte ist natürlich ebenfalls möglich. Befindet sich das Zielprojekt namens load_data.py in einem Unterordner Utils in einem Unterordner src (./src/Utils/load_data.py), dann gelingt der Import mit "
   ]
  },
  {
   "cell_type": "code",
   "execution_count": null,
   "metadata": {},
   "outputs": [],
   "source": [
    "from src.Utils import load_data"
   ]
  },
  {
   "cell_type": "markdown",
   "metadata": {},
   "source": [
    "Der große Vorteil von Anaconda gegenüber dem Standard-Paket-Manager ist das Managment der Programmier-Umgebung. Durch sogannte *virtual environments* können Umgebungen geschaffen werden, in denen bestimmte Versionen von Python und Paketen vorliegen, die für das aktuelle Projekt benötigt werden, ohne gleich das ganze System umstellen zu müssen, möglicherweise sogar mit unkompatiblen Kombinationen. In einer Anaconda-Umgebung beginnt die aktuelle Zeile eures Terminals vermutlich mit **base**, den dies ist die Standard-Umgebung. Eine neue Umgebung namens meine_v_umgebung lässt sich erstellen und aktivieren mit\n",
    "\n",
    "```\n",
    "conda create -n meine_v_umgebung\n",
    "conda activate meine_v_umgebung\n",
    "```"
   ]
  },
  {
   "cell_type": "markdown",
   "metadata": {
    "id": "hZLRTZJz4XFc"
   },
   "source": [
    "# Plotten"
   ]
  },
  {
   "cell_type": "markdown",
   "metadata": {
    "id": "auPWPpHH4XFc"
   },
   "source": [
    "Python kann auch graphische Dinge ausgeben und mit etwas (viel) Mühe sogar so, dass man das publizieren kann. Das Paket hierzu ist `matplotlib`, welches eigentlich (wie bereits der name sagt) eine Bibliothek, also mehrere Pakete in einem ist. Man kommt an das paket zum Plotten mit Python in matplotlib über:\n",
    "```python\n",
    "import matplotlib.pyplot as plt\n",
    "```\n",
    "oder alternativ (macht exakt as gleiche ist aber lesbarer):\n",
    "```python\n",
    "from matplotlib import pyplot as plt\n",
    "```\n"
   ]
  },
  {
   "cell_type": "code",
   "execution_count": null,
   "metadata": {
    "id": "fiLhttT94XFc",
    "outputId": "5df8426c-8bb1-491e-d228-21d8a9ffed2a"
   },
   "outputs": [],
   "source": [
    "#und dann macht man einfach einen plot mit plt.plot :)\n",
    "from matplotlib import pyplot as plt\n",
    "x = [i for i in range(-50,51)] #na was macht range hier genau? von -50 bis 50 zählen!!\n",
    "y = [k**2 for k in x]\n",
    "plt.plot(x,y)#wir haben ja x und y\n",
    "plt.show()#nur dann wird auch was gezeigt"
   ]
  },
  {
   "cell_type": "code",
   "execution_count": null,
   "metadata": {
    "id": "xjTJRlo84XFc",
    "outputId": "a0aa9a95-3f85-4f3c-d786-4f9cdff67a38"
   },
   "outputs": [],
   "source": [
    "#wenn wir achsenbeschriftungen wollen müssen wir diese mit plt.xlabel usw hinzufügen\n",
    "plt.plot(x,y,label='le data')#wir haben ja x und y\n",
    "plt.xlabel('$\\\\alpha$-Achse [a.U.]')\n",
    "plt.ylabel('$\\\\beta$-Achse [a.U.]')\n",
    "plt.legend()\n",
    "plt.show()#nur dann wird auch was gezeigt"
   ]
  },
  {
   "cell_type": "markdown",
   "metadata": {
    "id": "O18mm2ny4XFc"
   },
   "source": [
    "Das geht auch als scatterplot mit farbscala und unterschiedlichen grössen wo wir jeden 5. punkt zeigen!"
   ]
  },
  {
   "cell_type": "code",
   "execution_count": null,
   "metadata": {
    "id": "h4u1-LNK4XFc",
    "outputId": "c28456cc-a0ee-44e1-8d76-ede157c37ae8"
   },
   "outputs": [],
   "source": [
    "plt.scatter(x[::5],y[::5],c=y[::5],s=y[::5],label='le data')#wir haben ja x und y\n",
    "plt.colorbar(label=\"eine Skala\")\n",
    "plt.xlabel('$\\\\alpha$-Achse [a.U.]')\n",
    "plt.ylabel('$\\\\beta$-Achse [a.U.]')\n",
    "plt.legend()\n",
    "plt.show()#nur dann wird auch was gezeigt"
   ]
  },
  {
   "cell_type": "markdown",
   "metadata": {},
   "source": [
    "# Klassen"
   ]
  },
  {
   "cell_type": "markdown",
   "metadata": {},
   "source": [
    "Jedes Objekt in Python gehört einer Klasse an. Zu welcher Klasse ein bestimmtes Objekt gehört lässt sich mit dem Befehl ```type()``` anzeigen."
   ]
  },
  {
   "cell_type": "code",
   "execution_count": null,
   "metadata": {},
   "outputs": [],
   "source": [
    "print(type(\"Hallo Welt!\"))\n",
    "print(type(4))\n",
    "print(type(4.9))\n",
    "print(type(True))\n",
    "print(type([1,2,3]))\n",
    "print(type((1,2,3)))\n",
    "print(type({1: 1, 2: 2, 3: 3}))\n",
    "\n",
    "def meine_funktion():\n",
    "    pass\n",
    "\n",
    "print(type(meine_funktion))\n",
    "print(type(print))"
   ]
  },
  {
   "cell_type": "markdown",
   "metadata": {},
   "source": [
    "Selbst der bereits häufig genutzte ```print```-Befehl ist für Python also nur ein Objekt, das einer Klasse angehört und dementsprechend über bestimmt Funktionen verfügt. Die fest eingebauten Klassen sind aber noch nicht das Ende vom Lied. Durch Importe zusätzlicher Pakete werden weitere spezialisierte Klassen zugänglich, wie zum Beispiel der bereits vorgestellt ***numpy-array***."
   ]
  },
  {
   "cell_type": "code",
   "execution_count": null,
   "metadata": {},
   "outputs": [],
   "source": [
    "print(type(matrixNumpy))"
   ]
  },
  {
   "cell_type": "markdown",
   "metadata": {},
   "source": [
    "Eigene Klassen lassen sich ähnlich wie Funktionen definieren. Hierzu wird das Schlüsselwort ***class*** verwendet."
   ]
  },
  {
   "cell_type": "code",
   "execution_count": null,
   "metadata": {},
   "outputs": [],
   "source": [
    "class Hund():\n",
    "    pass\n",
    "\n",
    "print(type(Hund()))"
   ]
  },
  {
   "cell_type": "markdown",
   "metadata": {},
   "source": [
    "Auf diese Weise lässt sich ein Objekt der Klasse *Hund* erstellen. Allerdings verfügt diese bisher noch keine bedeutende Funktionalität. Ein erster Schritt könnte sein, der gesamten Klasse *Hund* eine Variable zu geben, welche ihre Eigenschaft beschreibt."
   ]
  },
  {
   "cell_type": "code",
   "execution_count": null,
   "metadata": {},
   "outputs": [],
   "source": [
    "class Hund():\n",
    "    eigenschaft = \"Guter Junge\"\n",
    "    \n",
    "fido = Hund()\n",
    "hasso = Hund()\n",
    "\n",
    "print(fido.eigenschaft, hasso.eigenschaft)"
   ]
  },
  {
   "cell_type": "markdown",
   "metadata": {},
   "source": [
    "*eigenschaft* betrifft jeden *Hund*. Es lassen sich aber auch Variablen zu einzelnen Objekten einer Klasse, **Instanzen** dieser Klasse, zuweisen. Hierzu dient das Schlüsselwort ```self```."
   ]
  },
  {
   "cell_type": "code",
   "execution_count": null,
   "metadata": {},
   "outputs": [],
   "source": [
    "class Hund():\n",
    "    eigenschaft = \"Guter Junge\"\n",
    "    \n",
    "    def __init__(self, name):\n",
    "        print(\"Hallo\", name)\n",
    "        self.name = name\n",
    "\n",
    "fido = Hund(\"Fido\")\n",
    "hasso = Hund(\"Hasso\")\n",
    "\n",
    "print(fido.name, hasso.name)\n",
    "    "
   ]
  },
  {
   "cell_type": "markdown",
   "metadata": {},
   "source": [
    "In der letzten Zelle wurden außerdem zwei neue Konzepte eingeführt. Beim ersten Konzept handelt es sich um die *constructor*-Methode ```__init__```. Diese wird jedes mal durchgeführt, wenn eine neue Instanz einer Klasse erstellt wird. ```__init__``` gehört auch zum zweiten Konzept, den es handelt sich um die sogenannten *double under*-Methoden, auch *dunder*- oder *magic*-Methoden genannt, durch welche Klassen spezielle Funktionen erhalten können. Andere Beispiele sind die *deconstructor*-Methode ```__del__``` oder ```__add__```, mit dem sich das Verhalten bei bei Verwendung des +-Symbols definieren lässt. Es gibt noch zahlreiche weitere dunder-Methoden."
   ]
  },
  {
   "cell_type": "code",
   "execution_count": null,
   "metadata": {},
   "outputs": [],
   "source": [
    "class Hund():\n",
    "    eigenschaft = \"Guter Junge\"\n",
    "    \n",
    "    def __init__(self, name):\n",
    "        print(\"Hallo\", name)\n",
    "        self.name = name\n",
    "    \n",
    "    def __del__(self):\n",
    "        print(\"Bye,\", self.name)\n",
    "    \n",
    "    def __add__(self, other):\n",
    "        return f\"{self.name} und {other.name}\"\n",
    "        \n",
    "fido = Hund(\"Fido\")\n",
    "hasso = Hund(\"Hasso\")\n",
    "\n",
    "print(fido + hasso)\n",
    "\n",
    "del fido\n",
    "del hasso"
   ]
  },
  {
   "cell_type": "markdown",
   "metadata": {},
   "source": [
    "Für benutzerdefinierte Klassen können allerdings auch normale Methoden definiert werden. Der Unterschied zur Definition von Funktionen besteht darin, dass zwingenderweise das Schlüsselwort ```self``` als erstes Argument der Methode verwendet werden muss, wie bereits bei ```__init__``` zu sehen war. Beim Aufrufen der Funktion darf ```self``` dann allerdings nicht mehr verwendet werden, denn bei Klassen-Methoden dient die aufrufende Instanz der Klasse auf der linken Seite des Punktes als erstes Argument der Funktion."
   ]
  },
  {
   "cell_type": "code",
   "execution_count": null,
   "metadata": {},
   "outputs": [],
   "source": [
    "class Katze():\n",
    "    def __init__(self, name):\n",
    "        self.name = name\n",
    "        print(\"Hallo\", name)\n",
    "        \n",
    "    def miau(self):\n",
    "        print(\"Miau\")\n",
    "        \n",
    "findus = Katze(\"Findus\")\n",
    "findus.miau()"
   ]
  },
  {
   "cell_type": "markdown",
   "metadata": {},
   "source": [
    "Eventuell ist euch schon aufgefallen, dass auch bei der Definition der Klasse leere Klammern verwendet wurden. Diese können verwendet werden, um Kind-Klassen die Variablen und Methoden der Eltern-Klasse erben zu lassen. Hierbei empfiehlt es sich, den Konstruktor der Eltern-Klasse im Konstruktor der Kind-Klasse durchzuführen, um doppelten Code zu vermeiden. Der Zugriff auf die jeweilige Eltern-Klasse kann mit der ```super()```-Methode erfolgen."
   ]
  },
  {
   "cell_type": "code",
   "execution_count": null,
   "metadata": {},
   "outputs": [],
   "source": [
    "class Atom():\n",
    "    def __init__(self, name, masse, ordnungszahl):\n",
    "        self.name = name\n",
    "        self.masse = masse\n",
    "        self.ordnungszahl = ordnungszahl\n",
    "\n",
    "class Chrom(Atom):\n",
    "    def __init__(self, name, masse, ordungszahl):\n",
    "        super().__init__(name, masse, ordungszahl)\n",
    "        self.radioaktiv = False\n",
    "        \n",
    "mein_chrom = Chrom(\"Chrom\", 51.996, 24)\n",
    "\n",
    "print(mein_chrom.name)\n",
    "print(mein_chrom.masse)\n",
    "print(mein_chrom.ordnungszahl)\n",
    "print(mein_chrom.radioaktiv)"
   ]
  }
 ],
 "metadata": {
  "colab": {
   "name": "0_Python Crash Kurs.ipynb",
   "provenance": []
  },
  "interpreter": {
   "hash": "09479eb26e9c2dfedc5b750a5f4404419e7e88fc081728cd256fd3e13a96b5b1"
  },
  "kernelspec": {
   "display_name": "Python 3 (ipykernel)",
   "language": "python",
   "name": "python3"
  },
  "language_info": {
   "codemirror_mode": {
    "name": "ipython",
    "version": 3
   },
   "file_extension": ".py",
   "mimetype": "text/x-python",
   "name": "python",
   "nbconvert_exporter": "python",
   "pygments_lexer": "ipython3",
   "version": "3.12.2"
  }
 },
 "nbformat": 4,
 "nbformat_minor": 1
}

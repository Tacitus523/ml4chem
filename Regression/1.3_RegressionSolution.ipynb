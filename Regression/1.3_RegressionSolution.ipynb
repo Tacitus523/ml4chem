{
 "cells": [
  {
   "cell_type": "markdown",
   "metadata": {},
   "source": [
    "# Linear Regression Exercise\n",
    "\n",
    "In this exercise we'll work on our own implementation of linear regression models, compare it to existing regeression models and apply them to a chemical dataset predicting solubility of different molecules. First I'll import the relevant packages for you."
   ]
  },
  {
   "cell_type": "code",
   "execution_count": 1,
   "metadata": {},
   "outputs": [],
   "source": [
    "import matplotlib.pyplot as plt\n",
    "import numpy as np\n",
    "import pandas as pd\n",
    "import seaborn as sns\n",
    "import sklearn\n",
    "from sklearn.linear_model import LinearRegression\n",
    "from sklearn.model_selection import train_test_split\n",
    "from sklearn import datasets\n",
    "from sklearn import metrics\n",
    "np.set_printoptions(precision=2)"
   ]
  },
  {
   "cell_type": "markdown",
   "metadata": {},
   "source": [
    "I'll also go ahead and prepare a suitable example dataset for your. It's a medical dataset of diabetes patients with medical information as features and some numerical quantification of the diabetes disease of that patient:\n",
    "\n",
    "**Number of Samples**: 442\n",
    "\n",
    "**Features**: 10 columns with numeric predictive values\n",
    "\n",
    "**Target**: Quantitative measure of disease progression one year after baseline\n",
    "\n",
    "**Feature Information**:\n",
    "- age: age in years\n",
    "- sex: 0 male, 1 female probably\n",
    "- bmi: body mass index\n",
    "- bp: average blood pressure\n",
    "- s1: tc, total serum cholesterol\n",
    "- s2: ldl, low-density lipoproteins\n",
    "- s3: hdl, high-density lipoproteins\n",
    "- s4: tch, total cholesterol / HDL\n",
    "- s5: ltg, possibly log of serum triglycerides level\n",
    "- s6: glu, blood sugar level\n",
    "\n",
    "**Note**: Each of these 10 feature variables have been mean centered and scaled by the standard deviation times the square root of the number of samples."
   ]
  },
  {
   "cell_type": "code",
   "execution_count": 2,
   "metadata": {},
   "outputs": [],
   "source": [
    "diabetes_dataset: sklearn.utils.Bunch = datasets.load_diabetes() # Scikit-learn dataset, bunch object, similar to a dictionary\n",
    "diabetes_feature_names: list = diabetes_dataset.feature_names\n",
    "diabetes_features: np.ndarray = diabetes_dataset.data # you'll work with these features\n",
    "diabetes_targets: np.ndarray = diabetes_dataset.target # you'll predict this target\n",
    "diabetes_dataframe: pd.DataFrame = pd.DataFrame(data=diabetes_features, columns=diabetes_feature_names) # Just for convenience if you wanto explore the data\n",
    "diabetes_dataframe[\"target\"] = diabetes_targets"
   ]
  },
  {
   "cell_type": "markdown",
   "metadata": {},
   "source": [
    "## Data preparation\n",
    "\n",
    "To validate your model in the end you will need a separate test set. Therefore you should split your data in two random subsets for training and testing now. Your test set should contain 15% of your total dataset. Also make sure, that both your subsets have the expected sample size.\n",
    "\n",
    "Assign features and labels of your subsets to the variables `X_train, X_test, y_train, y_test`. To pass the test cell the sample size and amount of features has to be correct."
   ]
  },
  {
   "cell_type": "markdown",
   "metadata": {},
   "source": [
    "A general formula for multiple regression for `n` variables looks like this:\n",
    "\n",
    "$$\n",
    "  f_w(x_0,x_1,...,x_n) = w_{b} 1 + w_{0} x_0 + w_{1} x_1  + ... w_{n} x_n = \\sum_i^n w_i \\cdot x_i = \\mathbf{x} \\cdot \\mathbf{w} \n",
    "$$\n",
    "\n",
    "\n",
    "\\begin{equation}\n",
    "\\mathbf{x} =\n",
    "\\begin{pmatrix}\n",
    "  1 \\\\ x_0 \\\\ x_1 \\\\ \\cdots \\\\ x_n \\\\\n",
    "\\end{pmatrix},\n",
    "\\mathbf{w} = \n",
    "\\begin{pmatrix}\n",
    "  w_b \\\\ w_0 \\\\ w_1 \\\\ \\vdots \\\\ w_n  \\\\\n",
    "\\end{pmatrix}\n",
    "\\end{equation}\n",
    "\n",
    "\n",
    "\n",
    "Following the least squares estimation we want to minimize the squared loss for the whole dataset with n features and T entries:\n",
    "\n",
    "\\begin{equation}\n",
    "L = ||\\mathbf{X} \\mathbf{w} - \\mathbf{y}||^2 = (\\mathbf{X} \\mathbf{w} - \\mathbf{y})^T(\\mathbf{X} \\mathbf{w} - \\mathbf{y}) = \\mathbf{X}^T \\mathbf{w}^T \\mathbf{X} \\mathbf{w} - \\mathbf{y}^T \\mathbf{X} \\mathbf{w} - \\mathbf{X}^T \\mathbf{w}^T \\mathbf{y} + y^T y = \\mathbf{X}^T \\mathbf{w}^T \\mathbf{X} \\mathbf{w} - 2 \\mathbf{X}^T \\mathbf{w}^T \\mathbf{y} + \\mathbf{y}^T \\mathbf{y}\n",
    "\\end{equation}\n",
    "\n",
    "\\begin{equation}\n",
    "\\mathbf{X} =\n",
    "\\begin{pmatrix}\n",
    "  1       & x_{0,0}   & x_{0,1}  & \\cdots  & x_{0,n}  \\\\\n",
    "  1       & x_{1,0}   & x_{1,1}  & \\cdots  & x_{1,n}  \\\\\n",
    "  \\vdots  & \\vdots  & \\vdots & \\ddots  & \\vdots \\\\\n",
    "  1       & x_{T,0 }  & x_{T,1}  & \\cdots  & x_{T,n}  \\\\\n",
    "\\end{pmatrix},\n",
    "\\mathbf{y} = \n",
    "\\begin{pmatrix}\n",
    "  1 & y_0 & y_1 & \\cdots & y_T  \\\\\n",
    "\\end{pmatrix}\n",
    "\\end{equation}\n",
    "\n",
    "This is extreme when the derivation with respect to the weights is minimal:\n",
    "\n",
    "\\begin{align*}\n",
    "\\frac{\\partial L}{\\partial \\mathbf{w}} = 2 \\mathbf{X}^T \\mathbf{X} w - 2 \\mathbf{X}^T \\mathbf{y} &\\overset{!}{=} 0\\\\\n",
    "\\mathbf{X}^T \\mathbf{X} w  &= \\mathbf{X}^T \\mathbf{y}\\\\\n",
    "w  &= (\\mathbf{X}^T \\mathbf{X})^{-1} \\mathbf{X}^T \\mathbf{y}\n",
    "\\end{align*}"
   ]
  },
  {
   "cell_type": "markdown",
   "metadata": {},
   "source": [
    "Our ambitious goal for today is to not only cover simple linear regression, but multiple linear regression. Start by making room for the bias by concatenating an array of ones to the diabetes_features and a single 1 at the beginning of diabetes_targets.\n",
    "\n",
    "Create a new np.array called `diabetes_features_prepended` with ones along axis 1 and a new np.array called `diabetes_targets_prepended` to pass the tests in the following test cell."
   ]
  },
  {
   "cell_type": "code",
   "execution_count": 3,
   "metadata": {},
   "outputs": [],
   "source": [
    "ones_array: np.ndarray = np.ones((diabetes_features.shape[0], 1))\n",
    "diabetes_features_prepended: np.ndarray = np.concatenate((ones_array, diabetes_features), axis=1)\n",
    "diabetes_targets_prepended: np.ndarray = np.insert(diabetes_targets, 0, 1, axis=0)"
   ]
  },
  {
   "cell_type": "code",
   "execution_count": 4,
   "metadata": {},
   "outputs": [],
   "source": [
    "# Test cell\n",
    "\n",
    "assert diabetes_features_prepended.shape == (diabetes_features.shape[0], diabetes_features.shape[1] + 1), \"The shape of diabetes_features_prepended is incorrect\"\n",
    "assert np.all(diabetes_features_prepended[:, 0] == 1), \"The first column of diabetes_features_prepended is not 1\"\n",
    "assert diabetes_targets_prepended.shape == (diabetes_targets.shape[0] + 1,), \"The shape of diabetes_targets_prepended is incorrect\"\n",
    "assert diabetes_targets_prepended[0] == 1, \"The first element of diabetes_targets_prepended is not 1\""
   ]
  },
  {
   "cell_type": "markdown",
   "metadata": {},
   "source": [
    "As a first step calculate the requiered matrix multiplication before the inversion of the matrix. Save the result in a variable called `matrix_multiplication`. Note that numpy only does elementwise multiplication with a simple `matrix * matrix`. You'll need a proper matrix multiplication method.\n",
    "\n",
    "Afterwards invert the `matrix_multiplication` matrix using an appropiate numpy method and save it to a variable called `inverted_matrix`.\n",
    "\n",
    "The matrices need to have the right shape and their matrix multiplication has to lead to the identity matrix to pass the tests in the following test cell."
   ]
  },
  {
   "cell_type": "code",
   "execution_count": 5,
   "metadata": {},
   "outputs": [],
   "source": [
    "matrix_multiplication: np.ndarray = np.matmul(diabetes_features_prepended.T, diabetes_features_prepended)\n",
    "inverted_matrix: np.ndarray = np.linalg.inv(matrix_multiplication)"
   ]
  },
  {
   "cell_type": "code",
   "execution_count": 6,
   "metadata": {},
   "outputs": [],
   "source": [
    "# Test cell\n",
    "\n",
    "assert matrix_multiplication.shape == (diabetes_features.shape[1] + 1, diabetes_features.shape[1] + 1), \"The shape of matrix_multiplication is incorrect\"\n",
    "assert np.all(matrix_multiplication == matrix_multiplication.T), \"matrix_multiplication is not symmetric\"\n",
    "\n",
    "assert inverted_matrix.shape == (diabetes_features.shape[1] + 1, diabetes_features.shape[1] + 1), \"The shape of inverted_matrix is incorrect\"\n",
    "assert np.allclose(np.matmul(matrix_multiplication, inverted_matrix), np.eye(diabetes_features.shape[1] + 1)), \"The product of matrix_multiplication and inverted_matrix is not the identity matrix\""
   ]
  },
  {
   "cell_type": "markdown",
   "metadata": {},
   "source": [
    "The hardest part is done. You can get the optimal weights by two more matrix multiplications.\n",
    "\n",
    "Calculate the optimal weights and save them in a variable called `weights` to pass the following test cell."
   ]
  },
  {
   "cell_type": "code",
   "execution_count": 7,
   "metadata": {},
   "outputs": [],
   "source": [
    "weights: np.ndarray = np.matmul(np.matmul(inverted_matrix, diabetes_features_prepended.T), diabetes_targets)"
   ]
  },
  {
   "cell_type": "code",
   "execution_count": 8,
   "metadata": {},
   "outputs": [],
   "source": [
    "# Test cell\n",
    "\n",
    "assert weights.shape == (diabetes_features.shape[1] + 1,), \"The shape of weights is incorrect\""
   ]
  },
  {
   "cell_type": "markdown",
   "metadata": {},
   "source": [
    "Now that the more complicated part is over let's train a model automatically with sklearns toolbox.\n",
    "\n",
    "Create a linear regression model called `model` and train it with the original data to pass the following test cell."
   ]
  },
  {
   "cell_type": "code",
   "execution_count": 9,
   "metadata": {},
   "outputs": [
    {
     "data": {
      "text/plain": [
       "LinearRegression()"
      ]
     },
     "execution_count": 9,
     "metadata": {},
     "output_type": "execute_result"
    }
   ],
   "source": [
    "model: LinearRegression = LinearRegression()\n",
    "model.fit(diabetes_features, diabetes_targets)"
   ]
  },
  {
   "cell_type": "code",
   "execution_count": 10,
   "metadata": {},
   "outputs": [],
   "source": [
    "# Test cell\n",
    "\n",
    "assert isinstance(model, sklearn.linear_model._base.LinearRegression), \"model is not an instance of LinearRegression\"\n",
    "assert hasattr(model, 'coef_'), \"model was not trained yet\""
   ]
  },
  {
   "cell_type": "markdown",
   "metadata": {},
   "source": [
    "Now we want to compare the weights from the sklearn model to those from our own implementation. The bias is stored in an instance variable called `intercept_` and the remaining weights can be accessed via the instance variable `coef_`.\n",
    "\n",
    "Insert `model.intercept_` into `model.coef_` at position 0 and save the resulting np.array with the variable name `model_weights`. The following test cell will check, wheter the `weights` and the `model_weights` are equal. "
   ]
  },
  {
   "cell_type": "code",
   "execution_count": 11,
   "metadata": {},
   "outputs": [],
   "source": [
    "model_weights: np.ndarray = np.insert(model.coef_, 0, model.intercept_, axis=0)"
   ]
  },
  {
   "cell_type": "code",
   "execution_count": 12,
   "metadata": {},
   "outputs": [],
   "source": [
    "# Test cell\n",
    "\n",
    "assert model_weights.shape == (diabetes_features.shape[1] + 1,), \"The shape of model_weights is incorrect. Did you include the bias?\"\n",
    "assert np.allclose(weights, model_weights), \"The weights of the model are incorrect\""
   ]
  },
  {
   "cell_type": "markdown",
   "metadata": {},
   "source": []
  }
 ],
 "metadata": {
  "kernelspec": {
   "display_name": "Python 3 (ipykernel)",
   "language": "python",
   "name": "python3"
  },
  "language_info": {
   "codemirror_mode": {
    "name": "ipython",
    "version": 3
   },
   "file_extension": ".py",
   "mimetype": "text/x-python",
   "name": "python",
   "nbconvert_exporter": "python",
   "pygments_lexer": "ipython3",
   "version": "3.7.16"
  }
 },
 "nbformat": 4,
 "nbformat_minor": 2
}

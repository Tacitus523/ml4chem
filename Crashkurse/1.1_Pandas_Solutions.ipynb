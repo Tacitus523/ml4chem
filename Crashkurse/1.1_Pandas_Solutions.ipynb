{
 "cells": [
  {
   "attachments": {},
   "cell_type": "markdown",
   "metadata": {},
   "source": [
    "## Pandas Exercises\n",
    "\n",
    "We provided you with a dataset from [kaggle](https://www.kaggle.com/datasets/abcsds/pokemon) about Pokemon as a .csv-file.\n",
    "\n",
    "The first task is obviously to import pandas following common conventions and load the csv as a dataframe in a variable called `pokemon_df`."
   ]
  },
  {
   "cell_type": "code",
   "execution_count": null,
   "metadata": {},
   "outputs": [],
   "source": [
    "import pandas as pd\n",
    "\n",
    "pokemon_df = pd.read_csv(\"Pokemon.csv\")"
   ]
  },
  {
   "attachments": {},
   "cell_type": "markdown",
   "metadata": {},
   "source": [
    "Next familiarize yourself with the columns and their datatypes.\n",
    "\n",
    "What are the columns?\n",
    "\n",
    "How many entries are there?\n",
    "\n",
    "Which are the numerical columns?\n",
    "\n",
    "Are there missing values? Is this because the dataset is incomplete or is column just not applicable?"
   ]
  },
  {
   "cell_type": "code",
   "execution_count": 2,
   "metadata": {},
   "outputs": [
    {
     "name": "stdout",
     "output_type": "stream",
     "text": [
      "   #                   Name Type 1  Type 2  Total  HP  Attack  Defense  \\\n",
      "0  1              Bulbasaur  Grass  Poison    318  45      49       49   \n",
      "1  2                Ivysaur  Grass  Poison    405  60      62       63   \n",
      "2  3               Venusaur  Grass  Poison    525  80      82       83   \n",
      "3  3  VenusaurMega Venusaur  Grass  Poison    625  80     100      123   \n",
      "4  4             Charmander   Fire     NaN    309  39      52       43   \n",
      "\n",
      "   Sp. Atk  Sp. Def  Speed  Generation  Legendary  \n",
      "0       65       65     45           1      False  \n",
      "1       80       80     60           1      False  \n",
      "2      100      100     80           1      False  \n",
      "3      122      120     80           1      False  \n",
      "4       60       50     65           1      False  \n",
      "<class 'pandas.core.frame.DataFrame'>\n",
      "RangeIndex: 800 entries, 0 to 799\n",
      "Data columns (total 13 columns):\n",
      " #   Column      Non-Null Count  Dtype \n",
      "---  ------      --------------  ----- \n",
      " 0   #           800 non-null    int64 \n",
      " 1   Name        800 non-null    object\n",
      " 2   Type 1      800 non-null    object\n",
      " 3   Type 2      414 non-null    object\n",
      " 4   Total       800 non-null    int64 \n",
      " 5   HP          800 non-null    int64 \n",
      " 6   Attack      800 non-null    int64 \n",
      " 7   Defense     800 non-null    int64 \n",
      " 8   Sp. Atk     800 non-null    int64 \n",
      " 9   Sp. Def     800 non-null    int64 \n",
      " 10  Speed       800 non-null    int64 \n",
      " 11  Generation  800 non-null    int64 \n",
      " 12  Legendary   800 non-null    bool  \n",
      "dtypes: bool(1), int64(9), object(3)\n",
      "memory usage: 75.9+ KB\n",
      "800\n"
     ]
    },
    {
     "data": {
      "text/plain": [
       "414"
      ]
     },
     "execution_count": 2,
     "metadata": {},
     "output_type": "execute_result"
    }
   ],
   "source": [
    "print(pokemon_df.head())\n",
    "pokemon_df.info()\n",
    "print(len(pokemon_df))\n",
    "len(pokemon_df.dropna(axis=0))"
   ]
  },
  {
   "attachments": {},
   "cell_type": "markdown",
   "metadata": {},
   "source": [
    "Save the pokemon names in a variable called pokemon_names."
   ]
  },
  {
   "cell_type": "code",
   "execution_count": 3,
   "metadata": {},
   "outputs": [],
   "source": [
    "pokemon_names = pokemon_df[\"Name\"]"
   ]
  },
  {
   "attachments": {},
   "cell_type": "markdown",
   "metadata": {},
   "source": [
    "Which types exist?\n",
    "\n",
    "How many pokemon of each type are there roughly?"
   ]
  },
  {
   "cell_type": "code",
   "execution_count": 4,
   "metadata": {},
   "outputs": [
    {
     "name": "stdout",
     "output_type": "stream",
     "text": [
      "18\n",
      "18\n",
      "Bug          72\n",
      "Dark         51\n",
      "Dragon       50\n",
      "Electric     50\n",
      "Fairy        40\n",
      "Fighting     53\n",
      "Fire         64\n",
      "Flying      101\n",
      "Ghost        46\n",
      "Grass        95\n",
      "Ground       67\n",
      "Ice          38\n",
      "Normal      102\n",
      "Poison       62\n",
      "Psychic      90\n",
      "Rock         58\n",
      "Steel        49\n",
      "Water       126\n",
      "dtype: int64\n"
     ]
    }
   ],
   "source": [
    "print(pokemon_df[\"Type 1\"].nunique())\n",
    "print(pokemon_df[\"Type 2\"].nunique())\n",
    "print(pokemon_df[\"Type 1\"].value_counts()+pokemon_df[\"Type 2\"].value_counts())"
   ]
  },
  {
   "attachments": {},
   "cell_type": "markdown",
   "metadata": {},
   "source": [
    "Imagine we wouldn't care about the numerical stats. Create a sub-dataframe called non_numerical_df, which only contrains string and boolean data types."
   ]
  },
  {
   "cell_type": "code",
   "execution_count": 5,
   "metadata": {},
   "outputs": [],
   "source": [
    "non_numerical_df = pokemon_df[[\"Name\", \"Type 1\", \"Type 2\", \"Legendary\"]]"
   ]
  },
  {
   "attachments": {},
   "cell_type": "markdown",
   "metadata": {},
   "source": [
    "Ensure that the `Total` column, which contains the sum of all pokemon attributes is calculated correctly. Assign a new column called \"My Total\" to the dataframe. The python function all(boolean_list) is able to check, if all entries in a list are true.  "
   ]
  },
  {
   "cell_type": "code",
   "execution_count": 6,
   "metadata": {},
   "outputs": [
    {
     "name": "stdout",
     "output_type": "stream",
     "text": [
      "True\n"
     ]
    }
   ],
   "source": [
    "pokemon_df[\"My Total\"] = pokemon_df.HP + pokemon_df.Attack + pokemon_df.Defense + pokemon_df.Speed + pokemon_df[\"Sp. Atk\"]+  pokemon_df[\"Sp. Def\"]\n",
    "print(all(pokemon_df[\"My Total\"] == pokemon_df[\"Total\"]))"
   ]
  },
  {
   "attachments": {},
   "cell_type": "markdown",
   "metadata": {},
   "source": [
    "Another common task, that we didn't address yet, is sorting data. Try to find a pandas method, that sorts the pokemon names alphabetically."
   ]
  },
  {
   "cell_type": "code",
   "execution_count": 7,
   "metadata": {},
   "outputs": [
    {
     "name": "stdout",
     "output_type": "stream",
     "text": [
      "510                  Abomasnow\n",
      "511    AbomasnowMega Abomasnow\n",
      "68                        Abra\n",
      "392                      Absol\n",
      "393            AbsolMega Absol\n",
      "Name: Name, dtype: object\n"
     ]
    }
   ],
   "source": [
    "print(pokemon_names.sort_values().head())"
   ]
  },
  {
   "attachments": {},
   "cell_type": "markdown",
   "metadata": {},
   "source": [
    "The first generation is obviously the only true one. Limit your dataframe to only first generation pokemon and save it in the variable first_generation_df."
   ]
  },
  {
   "cell_type": "code",
   "execution_count": 8,
   "metadata": {},
   "outputs": [],
   "source": [
    "first_generation_df = pokemon_df[pokemon_df.Generation == 1]"
   ]
  },
  {
   "attachments": {},
   "cell_type": "markdown",
   "metadata": {},
   "source": [
    "How many legendary fire pokemon are there in total?"
   ]
  },
  {
   "cell_type": "code",
   "execution_count": 9,
   "metadata": {},
   "outputs": [
    {
     "name": "stdout",
     "output_type": "stream",
     "text": [
      "8\n"
     ]
    }
   ],
   "source": [
    "boolean_list = (pokemon_df.Legendary==True) & ((pokemon_df[\"Type 1\"]==\"Fire\") | (pokemon_df[\"Type 2\"]==\"Fire\"))\n",
    "legendary_fire_df = pokemon_df[boolean_list]\n",
    "print(len(legendary_fire_df))"
   ]
  },
  {
   "attachments": {},
   "cell_type": "markdown",
   "metadata": {},
   "source": [
    "How can we exclude Mega variants of the same pokemon from the main dataframe?"
   ]
  },
  {
   "cell_type": "code",
   "execution_count": 10,
   "metadata": {},
   "outputs": [
    {
     "name": "stdout",
     "output_type": "stream",
     "text": [
      "0     Bulbasaur\n",
      "1       Ivysaur\n",
      "2      Venusaur\n",
      "4    Charmander\n",
      "5    Charmeleon\n",
      "Name: Name, dtype: object\n"
     ]
    }
   ],
   "source": [
    "df_without_mega = pokemon_df[~pokemon_df[\"Name\"].str.contains(\"Mega\")]\n",
    "print(df_without_mega[\"Name\"].head())"
   ]
  },
  {
   "attachments": {},
   "cell_type": "markdown",
   "metadata": {},
   "source": [
    "Bug types need a buff. Increase the HP of all bug pokemon to the maximal HP value in the dataset. Save the new values to a new column and print it.\n",
    "\n",
    "On the other hand this might be too much of a buff. The new column should instead have a HP increase of +10."
   ]
  },
  {
   "cell_type": "code",
   "execution_count": 11,
   "metadata": {},
   "outputs": [
    {
     "name": "stdout",
     "output_type": "stream",
     "text": [
      "                         Name  HP  Buffed HP\n",
      "0                   Bulbasaur  45         45\n",
      "1                     Ivysaur  60         60\n",
      "2                    Venusaur  80         80\n",
      "3       VenusaurMega Venusaur  80         80\n",
      "4                  Charmander  39         39\n",
      "5                  Charmeleon  58         58\n",
      "6                   Charizard  78         78\n",
      "7   CharizardMega Charizard X  78         78\n",
      "8   CharizardMega Charizard Y  78         78\n",
      "9                    Squirtle  44         44\n",
      "10                  Wartortle  59         59\n",
      "11                  Blastoise  79         79\n",
      "12    BlastoiseMega Blastoise  79         79\n",
      "13                   Caterpie  45        255\n",
      "14                    Metapod  50        255\n",
      "                         Name  HP  Buffed HP\n",
      "0                   Bulbasaur  45         45\n",
      "1                     Ivysaur  60         60\n",
      "2                    Venusaur  80         80\n",
      "3       VenusaurMega Venusaur  80         80\n",
      "4                  Charmander  39         39\n",
      "5                  Charmeleon  58         58\n",
      "6                   Charizard  78         78\n",
      "7   CharizardMega Charizard X  78         78\n",
      "8   CharizardMega Charizard Y  78         78\n",
      "9                    Squirtle  44         44\n",
      "10                  Wartortle  59         59\n",
      "11                  Blastoise  79         79\n",
      "12    BlastoiseMega Blastoise  79         79\n",
      "13                   Caterpie  45         55\n",
      "14                    Metapod  50         60\n"
     ]
    }
   ],
   "source": [
    "max_hp = pokemon_df[\"HP\"].max()\n",
    "pokemon_df[\"Buffed HP\"] = pokemon_df[\"HP\"].where(~((pokemon_df[\"Type 1\"] == \"Bug\") | (pokemon_df[\"Type 2\"] == \"Bug\")), max_hp)\n",
    "print(pokemon_df[[\"Name\", \"HP\", \"Buffed HP\"]].head(15))\n",
    "\n",
    "def row_transform(row):\n",
    "    if ((row[\"Type 1\"] == \"Bug\") | (row[\"Type 2\"] == \"Bug\")):\n",
    "        row[\"Buffed HP\"] = row[\"HP\"] + 10\n",
    "    else:\n",
    "        row[\"Buffed HP\"] = row[\"HP\"]\n",
    "    return row\n",
    "\n",
    "print(pokemon_df.apply(row_transform, axis=1)[[\"Name\", \"HP\", \"Buffed HP\"]].head(15))\n"
   ]
  },
  {
   "attachments": {},
   "cell_type": "markdown",
   "metadata": {},
   "source": [
    "What are the highest Attack values in each generation?\n",
    "\n",
    "What is the standard deviation of the HP in each generation?"
   ]
  },
  {
   "cell_type": "code",
   "execution_count": 12,
   "metadata": {},
   "outputs": [
    {
     "name": "stdout",
     "output_type": "stream",
     "text": [
      "Generation\n",
      "1    190\n",
      "2    185\n",
      "3    180\n",
      "4    170\n",
      "5    170\n",
      "6    160\n",
      "Name: Attack, dtype: int64\n",
      "Generation\n",
      "1    28.153968\n",
      "2    30.589359\n",
      "3    24.059634\n",
      "4    25.113604\n",
      "5    22.407748\n",
      "6    20.907822\n",
      "Name: HP, dtype: float64\n",
      "190\n",
      "185\n",
      "180\n",
      "170\n",
      "170\n",
      "160\n"
     ]
    }
   ],
   "source": [
    "aggregate = pokemon_df.groupby(\"Generation\")\n",
    "highest_attack = aggregate[\"Attack\"].max()\n",
    "std_HP = aggregate[\"HP\"].std()\n",
    "\n",
    "print(highest_attack)\n",
    "print(std_HP)\n",
    "\n",
    "print(pokemon_df[pokemon_df[\"Generation\"]==1].Attack.max())\n",
    "print(pokemon_df[pokemon_df[\"Generation\"]==2].Attack.max())\n",
    "print(pokemon_df[pokemon_df[\"Generation\"]==3].Attack.max())\n",
    "print(pokemon_df[pokemon_df[\"Generation\"]==4].Attack.max())\n",
    "print(pokemon_df[pokemon_df[\"Generation\"]==5].Attack.max())\n",
    "print(pokemon_df[pokemon_df[\"Generation\"]==6].Attack.max())\n"
   ]
  }
 ],
 "metadata": {
  "kernelspec": {
   "display_name": "base",
   "language": "python",
   "name": "python3"
  },
  "language_info": {
   "codemirror_mode": {
    "name": "ipython",
    "version": 3
   },
   "file_extension": ".py",
   "mimetype": "text/x-python",
   "name": "python",
   "nbconvert_exporter": "python",
   "pygments_lexer": "ipython3",
   "version": "3.7.6"
  },
  "orig_nbformat": 4
 },
 "nbformat": 4,
 "nbformat_minor": 2
}

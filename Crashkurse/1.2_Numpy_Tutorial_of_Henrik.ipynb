{
 "cells": [
  {
   "cell_type": "markdown",
   "metadata": {
    "id": "chFq0p6oYzfv"
   },
   "source": [
    "## Numpy tutorial GRK 2450\n",
    "\n",
    "- Numpy is a Python library for scientific computing with powerful tools for manipulating multi-dimensional arrays.\n",
    "- A lot of (most) python packages use numpy functionality.\n",
    "- Numpy performs the matrix manipulations internally using highly optimized C-code, which is often orders of magnitude faster than any implementation that one could write in pure python.\n",
    "  - Therefore, you should always think about how you can use numpy functionality and functions to replace your slow python for-loops etc.\n",
    "- If you use python for scientific purposes, there is no way around numpy.\n",
    "\n",
    "In this tutorial, we will go through some basic numpy functionality, but we cannot cover everything. For more advanced features, you can visit the [Numpy documentation](https://numpy.org/doc/stable/) or you can also ask [ChatGPT](https://chat.openai.com/) to rewrite some of your code using fast numpy features 😃."
   ]
  },
  {
   "cell_type": "markdown",
   "metadata": {
    "id": "nfl-ayvtZlC6"
   },
   "source": [
    "### Basics"
   ]
  },
  {
   "cell_type": "code",
   "execution_count": 1,
   "metadata": {
    "colab": {
     "base_uri": "https://localhost:8080/"
    },
    "id": "UiSBmy80TI9i",
    "outputId": "e6f80896-52ca-4b5d-c5eb-759ef5fc069c"
   },
   "outputs": [
    {
     "name": "stdout",
     "output_type": "stream",
     "text": [
      "## Creating arrays\n",
      "[1 2 3]\n",
      "[[1 2 3]\n",
      " [4 5 6]]\n",
      "[[0. 0. 0.]\n",
      " [0. 0. 0.]]\n",
      "[[1. 1. 1.]\n",
      " [1. 1. 1.]]\n",
      "[[1. 0. 0.]\n",
      " [0. 1. 0.]\n",
      " [0. 0. 1.]]\n",
      "## Array shapes\n",
      "(3,)\n",
      "(2, 3)\n",
      "## Array Indexing and Slicing\n",
      "0\n",
      "[2 3 4]\n",
      "1\n",
      "[[1 2]\n",
      " [4 5]]\n",
      "## Numpy built-in functions and operations\n",
      "Flattening arrays\n",
      "[1. 1. 1. 1. 1. 1. 1. 1. 1.]\n",
      "Arithmetic operations\n",
      "a + b: [ 2  4  6  8 10]\n",
      "a - b: [0 0 0 0 0]\n",
      "a * b: [ 1  4  9 16 25]\n",
      "a / b: [1. 1. 1. 1. 1.]\n",
      "\n",
      "Logical operations\n",
      "a > 3: [False False False  True  True]\n",
      "b < 3: [ True  True False False False]\n",
      "\n",
      "Statistical operations\n",
      "Mean of a: 3.0\n",
      "Median of b: 3.0\n",
      "Standard deviation of a: 1.4142135623730951\n",
      "\n",
      "Reshaping operations\n",
      "Original e: [1 2 3 4 5 6 7 8 9]\n",
      "Reshaped e (3x3 matrix):\n",
      "[[1 2 3]\n",
      " [4 5 6]\n",
      " [7 8 9]]\n",
      "\n"
     ]
    }
   ],
   "source": [
    "import numpy as np\n",
    "\n",
    "## Creating Arrays\n",
    "print(\"## Creating arrays\")\n",
    "\n",
    "# There are many ways to create NumPy arrays. Here are a few:\n",
    "\n",
    "# From a Python list:\n",
    "a = np.array([1, 2, 3])\n",
    "print(a)\n",
    "\n",
    "# From a Python list of lists:\n",
    "b = np.array([[1, 2, 3], [4, 5, 6]])\n",
    "print(b)\n",
    "\n",
    "# Using built-in NumPy functions:\n",
    "c = np.zeros((2, 3))  # creates a 2x3 array of zeros\n",
    "print(c)\n",
    "\n",
    "d = np.ones((2, 3))  # creates a 2x3 array of ones\n",
    "print(d)\n",
    "\n",
    "e = np.eye(3)  # creates a 3x3 identity matrix\n",
    "print(e)\n",
    "\n",
    "## Array shapes\n",
    "print(\"## Array shapes\")\n",
    "\n",
    "# Every numpy array has a \"shape\", which is a tuple of integers specifying the size \n",
    "# of each dimension.\n",
    "print(a.shape)\n",
    "print(b.shape)\n",
    "# The array \"a\" simply has shape (3,). This can be interpreted as a vector with three entries.\n",
    "# The array \"b\" has shape (2,3), which can be interpreted as a matrix with 2 rows and 3 columns.\n",
    "# However, a numpy array can have an arbitrary number of dimensions, each with an arbitrary size.\n",
    "\n",
    "# Keep in mind that the shape of a numpy array is fixed when it is created, you cannot \n",
    "# add additional items to a dimension without creating a new array.\n",
    "# This is different from python lists, where you can add additional elements and make the list larger.\n",
    "\n",
    "## Array Indexing and Slicing\n",
    "print(\"## Array Indexing and Slicing\")\n",
    "\n",
    "# NumPy arrays can be indexed and sliced like Python lists:\n",
    "f = np.array([0, 1, 2, 3, 4, 5])\n",
    "print(f[0])  # prints the first element (0)\n",
    "print(f[2:5])  # prints elements 2, 3, and 4\n",
    "\n",
    "# Multi-dimensional arrays can be indexed and sliced similarly:\n",
    "g = np.array([[0, 1, 2], [3, 4, 5]]) # shape (2,3)\n",
    "print(g[0, 1])  # prints the element at row 0, column 1 (1)\n",
    "print(g[:, 1:])  # prints all rows, columns 1 and up\n",
    "\n",
    "# We can add an additional `dummy` dimension of size 1 to an existing array.\n",
    "# For this, we can use \"None\" or \"np.newaxis\" when slicing the array:\n",
    "h = np.array([1,2,3]) # Shape (3,)\n",
    "h = h[:, None] # Shape (3,1)\n",
    "h = h[:,:, np.newaxis] # Shape (3,1,1)\n",
    "\n",
    "## Numpy built-in functions and operations\n",
    "print(\"## Numpy built-in functions and operations\")\n",
    "\n",
    "# NumPy arrays support many operations, including arithmetic operations, statistical operations, and linear algebra operations:\n",
    "\n",
    "# Let's define some more arrays:\n",
    "a = np.array([1, 2, 3, 4, 5])\n",
    "b = np.arange(1, 6) # Return evenly spaced values within the given interval (default step size: 1)\n",
    "c = np.zeros((3, 3))\n",
    "d = np.ones((3, 3))\n",
    "\n",
    "# Flattening arrays\n",
    "print(\"Flattening arrays\")\n",
    "# Calling flatten() on an array flattens all dimensions into a single dimension:\n",
    "print(d.flatten()) # Shape (9,)\n",
    "\n",
    "# Arithmetic operations\n",
    "print(\"Arithmetic operations\")\n",
    "print(f\"a + b: {a + b}\")\n",
    "print(f\"a - b: {a - b}\")\n",
    "print(f\"a * b: {a * b}\") # Multiplying two matrices / arrays is done element-wise! This is not matrix multiplication as known from math.\n",
    "print(f\"a / b: {a / b}\\n\")\n",
    "\n",
    "# Logical operations\n",
    "print(\"Logical operations\")\n",
    "# Returns a bool array of the same shape as \"a\", indicating for each element if a > 3 is True:\n",
    "print(f\"a > 3: {a > 3}\") \n",
    "# Another example:\n",
    "print(f\"b < 3: {b < 3}\\n\")\n",
    "\n",
    "# Statistical operations\n",
    "print(\"Statistical operations\")\n",
    "print(f\"Mean of a: {np.mean(a)}\")\n",
    "print(f\"Median of b: {np.median(b)}\")\n",
    "print(f\"Standard deviation of a: {np.std(a)}\\n\")\n",
    "\n",
    "# Reshaping operations\n",
    "print(\"Reshaping operations\")\n",
    "e = np.arange(1, 10)\n",
    "print(f\"Original e: {e}\")\n",
    "e = e.reshape((3, 3)) # \"Reshape\" first flattens the array (in our example, it is already flattened) and then turns it into the specified new shape.\n",
    "# The total number of elements of the array remains the same, they are just spread differently across the dimensions.\n",
    "print(f\"Reshaped e (3x3 matrix):\\n{e}\\n\")\n"
   ]
  },
  {
   "cell_type": "markdown",
   "metadata": {
    "id": "AAILQOQ2Zq_z"
   },
   "source": [
    "### Broadcasting\n",
    "\n",
    "One crucial and very powerful feature of numpy is broadcasting."
   ]
  },
  {
   "cell_type": "code",
   "execution_count": 5,
   "metadata": {
    "colab": {
     "base_uri": "https://localhost:8080/"
    },
    "id": "UC--dwTfZfKw",
    "outputId": "78290bea-e658-49b9-c0ba-4617f5052d11"
   },
   "outputs": [
    {
     "name": "stdout",
     "output_type": "stream",
     "text": [
      "[[3 4 5]\n",
      " [6 7 8]]\n",
      "[[1 2 3]\n",
      " [2 4 6]]\n",
      "[[2 3]\n",
      " [6 5]]\n",
      "(2, 1)\n",
      "[[2 6]\n",
      " [3 5]]\n"
     ]
    }
   ],
   "source": [
    "# When adding or multiplying two arrays, they usually need to have the same shape to be \n",
    "# able to apply the operation element-wise.\n",
    "# Broadcasting allows operations such as addition or multiplication between arrays of different shapes, \n",
    "# by duplicating (\"broadcasting\") the smaller array to match the larger array. This often makes it possible\n",
    "# to vectorize array operations such that no slow python loops are needed.\n",
    "\n",
    "# When operating on two arrays with different shapes, NumPy compares their shapes element-wise.\n",
    "# It starts with the trailing (i.e., rightmost) dimension and works its way left. \n",
    "# Two dimensions are compatible if they are equal, or one of them is 1.\n",
    "# If they are equal, then the dimensions are directly compatible and the operation can be\n",
    "# performed element-wise as usual. If one of the dimensions is 1, then the array \n",
    "# is duplicated along that dimension to match the size of that dimension of the other array.\n",
    "\n",
    "# Furthermore, the arrays do not need to have the same number of dimensions \n",
    "# (length of the shapes do not have to be the same). If one of the \n",
    "# arrays has a smaller number of dimensions, the missing dimensions are filled\n",
    "# with \"dummy\" dimensions of size 1 from the left.\n",
    "\n",
    "# Let's look at some examples to make this clear.\n",
    "\n",
    "# Let's say we want to add a scalar value to a 2D array:\n",
    "h = np.array([[1, 2, 3], [4, 5, 6]])\n",
    "i = 2\n",
    "print(h + i)  # the scalar value is broadcasted to each element of the array\n",
    "\n",
    "# Let's look at a more complicated example:\n",
    "j = np.array([1, 2, 3]) # shape (3,)\n",
    "k = np.array([[1], [2]]) # shape (2,1)\n",
    "print(j * k)\n",
    "# Let's try to understand what is happening here in more detail.\n",
    "# The shapes get aligned at the right side and than filled with ones to get the \n",
    "# same number of dimensions: (1,3) * (2,1).\n",
    "# Then, as discussed above, dimensions of size 1 are duplicated / broadcasted to match the other array: \n",
    "# => (2,3) * (2,3) after repeating each array along the 1-dimensions\n",
    "# Now, the arrays have the same shapes and are being multiplied as usual, element-by-element.\n",
    "# Try to see if you can calculate the result of j*k yourself. Maybe you have to write it down.\n",
    "\n",
    "# Here is another example with a 2D matrix and a 1D vector:\n",
    "l = np.array([[1,3],[3,5]]) # shape (2,2)\n",
    "m = np.array([2,1]) # shape (2,)\n",
    "n = np.array([[2],[1]]) # shape (1,2)\n",
    "print(l*m)\n",
    "print(n.shape)\n",
    "print(l*n)\n",
    "# Align the tensors at the right side and fill with 1s to match number \n",
    "# of dimensions: (2,2)*(1,2) \n",
    "# => the vector is repeated (\"broadcasted\") along the rows of the matrix:\n",
    "# (2,2)*(2,2)\n",
    "# => and then elementwise multiplication is applied as usual.\n",
    "\n",
    "# Now, try playing around with multiplying or adding some arrays of your choice of different dimensions.\n",
    "# Try to understand, when the dimensions of two arrays are compatible and when not.\n",
    "# Try to see if you can figure out the result returned by numpy in your head / on a piece of paper (as we did\n",
    "# for the examples above)."
   ]
  },
  {
   "cell_type": "markdown",
   "metadata": {
    "id": "VphAoEuBZzRS"
   },
   "source": [
    "#### Example: Computation of distance matrix between pairs of atoms\n",
    "\n",
    "To showcase how powerful using broadcasting can be, we use a simple example. Given an array of 2D points (shape: (N,2)), we want to get the distance matrix D_ij that contains the distances between all pairs of points."
   ]
  },
  {
   "cell_type": "markdown",
   "metadata": {
    "id": "AK1kKA4GSvjL"
   },
   "source": [
    "We start with a very inefficient implementation to compute this matrix using for-loops and python functionality."
   ]
  },
  {
   "cell_type": "code",
   "execution_count": null,
   "metadata": {
    "colab": {
     "base_uri": "https://localhost:8080/"
    },
    "id": "CrPJ5HOFSrbE",
    "outputId": "9f629242-9915-4096-cc94-a2f14f83f22b"
   },
   "outputs": [
    {
     "name": "stdout",
     "output_type": "stream",
     "text": [
      "[[0.         1.41421356 2.82842712]\n",
      " [1.41421356 0.         1.41421356]\n",
      " [2.82842712 1.41421356 0.        ]]\n"
     ]
    }
   ],
   "source": [
    "import numpy as np\n",
    "\n",
    "def get_distances_loop(coords):\n",
    "  # Create an empty array for the result:\n",
    "  distances = np.zeros((len(coords), len(coords)))\n",
    "\n",
    "  # Fill the array:\n",
    "  for i in range(len(coords)):\n",
    "      for j in range(len(coords)):\n",
    "          distances[i, j] = np.sqrt((coords[i][0] - coords[j][0]) ** 2 + (coords[i][1] - coords[j][1]) ** 2)\n",
    "\n",
    "  return distances\n",
    "\n",
    "# Create a list of coordinates\n",
    "coords = [(0, 0), (1, 1), (2, 2)]\n",
    "\n",
    "print(get_distances_loop(coords))"
   ]
  },
  {
   "cell_type": "markdown",
   "metadata": {
    "id": "IwsbE9MPS6V6"
   },
   "source": [
    "Now, try to reimplement the computation of the distance matrix yourself using the broadcasting rules that we saw above. Here are some hints on how to do this:\n",
    "- Create a numpy array from the python list `coords`\n",
    "- Currently, this array has shape (N,2). Create two new arrays, one of shape (N,1,2) and one of shape (1,N,2). Use np.newaxis or None when indexing (see above) to achieve this.\n",
    "- Subtract these two arrays from each other. This will use broadcasting to get an array of shape (N,N,2) which contains the vector distance between each pair of atoms\n",
    "- Use a combination of np.sqrt and np.sum to calculate the distance matrix of shape (N,N). Look up the documentation of np.sum if needed.\n",
    "\n",
    "You can find the solution to this exercise at the very end of this notebook."
   ]
  },
  {
   "cell_type": "code",
   "execution_count": null,
   "metadata": {
    "colab": {
     "base_uri": "https://localhost:8080/"
    },
    "id": "VxGZnQI7S3JC",
    "outputId": "0ffacfaf-76b6-45b3-d1d8-a2685e1c6fda"
   },
   "outputs": [
    {
     "name": "stdout",
     "output_type": "stream",
     "text": [
      "None\n"
     ]
    }
   ],
   "source": [
    "import numpy as np\n",
    "\n",
    "def get_distances_numpy(coords):\n",
    "\n",
    "  ### Your code goes here ###\n",
    "\n",
    "  return None # Change this!\n",
    "\n",
    "# Create a list of coordinates\n",
    "coords = [(0, 0), (1, 1), (2, 2)]\n",
    "print(get_distances_numpy(coords))"
   ]
  },
  {
   "cell_type": "markdown",
   "metadata": {
    "id": "iAuZ8QADX3ck"
   },
   "source": [
    "If you implemented it correctly, the numpy implementation should yield the same result as before.\n",
    "We can compare the runtime of both approaches by passing a very large array into both functions:"
   ]
  },
  {
   "cell_type": "code",
   "execution_count": null,
   "metadata": {
    "colab": {
     "base_uri": "https://localhost:8080/"
    },
    "id": "fym0figGYUqt",
    "outputId": "3f8ac520-e0b2-494a-cdf8-882f799fe0f9"
   },
   "outputs": [
    {
     "name": "stdout",
     "output_type": "stream",
     "text": [
      "Python loop implementation took 3.628126621246338s\n",
      "Numpy implementation took 0.039417266845703125s\n",
      "Numpy way 92.04409416432789 times faster then the python loop.\n"
     ]
    }
   ],
   "source": [
    "import time\n",
    "\n",
    "coords = np.random.randn(1000,2)\n",
    "\n",
    "start = time.time()\n",
    "get_distances_loop(coords)\n",
    "elapsed_loop = time.time()-start\n",
    "print(f\"Python loop implementation took {elapsed_loop}s\")\n",
    "\n",
    "start = time.time()\n",
    "get_distances_numpy(coords)\n",
    "elapsed_numpy = time.time()-start\n",
    "print(f\"Numpy implementation took {elapsed_numpy}s\")\n",
    "\n",
    "print(f\"Numpy was {elapsed_loop/elapsed_numpy} times faster then the python loop.\")"
   ]
  },
  {
   "cell_type": "markdown",
   "metadata": {
    "id": "J4tGgxBBYWFk"
   },
   "source": [
    "As we can see, the numpy-based implementation is a lot faster than the naive python implementation using for-loops."
   ]
  },
  {
   "cell_type": "markdown",
   "metadata": {
    "id": "jTavKGWEcePy"
   },
   "source": [
    "### Outlook: PyTorch\n",
    "\n",
    "PyTorch is a popular deep learning framework for Python. Fundamentally, a neural network is not much more than multiplying a couple of matrices and applying some simple activation functions. These matrices are represented as Tensors in PyTorch and they work very similarly to the numpy arrays. A lot (most!) of the functions that PyTorch offers to manipulate these tensors are the same as in numpy. The main difference is that PyTorch can use your GPU to accelerate the computations that you perform on the tensors.\n",
    "\n",
    "Once you know numpy, getting into PyTorch is easy.\n",
    "\n",
    "Now, we repeat the exact operations that we showed in the beginning of this tutorial, but now we write them in PyTorch notation. As you can see, there is not much of a difference at all."
   ]
  },
  {
   "cell_type": "code",
   "execution_count": null,
   "metadata": {
    "colab": {
     "base_uri": "https://localhost:8080/"
    },
    "id": "rrWfYRNcYfbZ",
    "outputId": "2743fd28-356f-4212-f19f-396ad8c4485d"
   },
   "outputs": [
    {
     "name": "stdout",
     "output_type": "stream",
     "text": [
      "## Creating tensors\n",
      "tensor([1, 2, 3])\n",
      "tensor([[1, 2, 3],\n",
      "        [4, 5, 6]])\n",
      "tensor([[0., 0., 0.],\n",
      "        [0., 0., 0.]])\n",
      "tensor([[1., 1., 1.],\n",
      "        [1., 1., 1.]])\n",
      "tensor([[1., 0., 0.],\n",
      "        [0., 1., 0.],\n",
      "        [0., 0., 1.]])\n",
      "## Tensor shapes\n",
      "torch.Size([3])\n",
      "torch.Size([2, 3])\n",
      "## Tensor Indexing and Slicing\n",
      "tensor(0)\n",
      "tensor([2, 3, 4])\n",
      "tensor(1)\n",
      "tensor([[1, 2],\n",
      "        [4, 5]])\n",
      "## PyTorch built-in functions and operations\n",
      "Flattening tensors\n",
      "tensor([1., 1., 1., 1., 1., 1., 1., 1., 1.])\n",
      "Arithmetic operations\n",
      "a + b: tensor([ 2,  4,  6,  8, 10])\n",
      "a - b: tensor([0, 0, 0, 0, 0])\n",
      "a * b: tensor([ 1,  4,  9, 16, 25])\n",
      "a / b: tensor([1., 1., 1., 1., 1.])\n",
      "\n",
      "Logical operations\n",
      "a > 3: tensor([False, False, False,  True,  True])\n",
      "b < 3: tensor([ True,  True, False, False, False])\n",
      "\n",
      "Statistical operations\n",
      "Mean of a: 3.0\n",
      "Median of b: 3.0\n",
      "Standard deviation of a: 1.4142135381698608\n",
      "\n",
      "Reshaping operations\n",
      "Original e: tensor([1, 2, 3, 4, 5, 6, 7, 8, 9])\n",
      "Reshaped e (3x3 matrix):\n",
      "tensor([[1, 2, 3],\n",
      "        [4, 5, 6],\n",
      "        [7, 8, 9]])\n",
      "\n"
     ]
    }
   ],
   "source": [
    "import torch\n",
    "\n",
    "## Creating Tensors\n",
    "print(\"## Creating tensors\")\n",
    "\n",
    "# From a Python list:\n",
    "a = torch.tensor([1, 2, 3])\n",
    "print(a)\n",
    "\n",
    "# From a Python list of lists:\n",
    "b = torch.tensor([[1, 2, 3], [4, 5, 6]])\n",
    "print(b)\n",
    "\n",
    "# Using built-in PyTorch functions:\n",
    "c = torch.zeros((2, 3))  # creates a 2x3 tensor of zeros\n",
    "print(c)\n",
    "\n",
    "d = torch.ones((2, 3))  # creates a 2x3 tensor of ones\n",
    "print(d)\n",
    "\n",
    "e = torch.eye(3)  # creates a 3x3 identity matrix\n",
    "print(e)\n",
    "\n",
    "## Tensor shapes\n",
    "print(\"## Tensor shapes\")\n",
    "\n",
    "print(a.shape)\n",
    "print(b.shape)\n",
    "\n",
    "## Tensor Indexing and Slicing\n",
    "print(\"## Tensor Indexing and Slicing\")\n",
    "\n",
    "f = torch.tensor([0, 1, 2, 3, 4, 5])\n",
    "print(f[0])  # prints the first element (0)\n",
    "print(f[2:5])  # prints elements 2, 3, and 4\n",
    "\n",
    "g = torch.tensor([[0, 1, 2], [3, 4, 5]]) # shape (2,3)\n",
    "print(g[0, 1])  # prints the element at row 0, column 1 (1)\n",
    "print(g[:, 1:])  # prints all rows, columns 1 and up\n",
    "\n",
    "h = torch.tensor([1,2,3]) # Shape (3,)\n",
    "h = h[:, None] # Shape (3,1)\n",
    "\n",
    "## PyTorch built-in functions and operations\n",
    "print(\"## PyTorch built-in functions and operations\")\n",
    "\n",
    "# Let's define some more tensors:\n",
    "a = torch.tensor([1, 2, 3, 4, 5])\n",
    "b = torch.arange(1, 6) \n",
    "c = torch.zeros((3, 3))\n",
    "d = torch.ones((3, 3))\n",
    "\n",
    "# Flattening tensors\n",
    "print(\"Flattening tensors\")\n",
    "print(d.flatten()) \n",
    "\n",
    "# Arithmetic operations\n",
    "print(\"Arithmetic operations\")\n",
    "print(f\"a + b: {a + b}\")\n",
    "print(f\"a - b: {a - b}\")\n",
    "print(f\"a * b: {a * b}\")\n",
    "print(f\"a / b: {a / b}\\n\")\n",
    "\n",
    "# Logical operations\n",
    "print(\"Logical operations\")\n",
    "print(f\"a > 3: {a > 3}\") \n",
    "print(f\"b < 3: {b < 3}\\n\")\n",
    "\n",
    "# Statistical operations\n",
    "print(\"Statistical operations\")\n",
    "print(f\"Mean of a: {torch.mean(a.float())}\")\n",
    "print(f\"Median of b: {torch.median(b.float())}\")\n",
    "print(f\"Standard deviation of a: {torch.std(a.float(), correction=0)}\\n\")\n",
    "\n",
    "# Reshaping operations\n",
    "print(\"Reshaping operations\")\n",
    "e = torch.arange(1, 10)\n",
    "print(f\"Original e: {e}\")\n",
    "e = e.reshape((3, 3))\n",
    "print(f\"Reshaped e (3x3 matrix):\\n{e}\\n\")"
   ]
  },
  {
   "cell_type": "markdown",
   "metadata": {
    "id": "Ap0dK2Pfq3-G"
   },
   "source": [
    "## Solutions"
   ]
  },
  {
   "cell_type": "code",
   "execution_count": null,
   "metadata": {
    "id": "koCFW0JMqyBY"
   },
   "outputs": [],
   "source": [
    "## Solution to the distance matrix calculation:\n",
    "\n",
    "import numpy as np\n",
    "\n",
    "def get_distances_numpy(coords):\n",
    "\n",
    "  # Convert the list of coordinates to a numpy array\n",
    "  coords_array = np.array(coords)\n",
    "\n",
    "  # Compute the distance matrix using broadcasting\n",
    "  differences = coords_array[:, np.newaxis, :] - coords_array[np.newaxis, :, :] # (N,1,2)-(1,N,2) => resulting matrix will have shape (N,N,2), containing the vector distance between every pair of atoms\n",
    "  distances = np.sqrt(np.sum(differences ** 2, axis=-1))\n",
    "\n",
    "  return distances\n",
    "\n",
    "# Create a list of coordinates\n",
    "coords = [(0, 0), (1, 1), (2, 2)]\n",
    "print(get_distances_numpy(coords))"
   ]
  }
 ],
 "metadata": {
  "colab": {
   "collapsed_sections": [
    "Ap0dK2Pfq3-G"
   ],
   "provenance": []
  },
  "kernelspec": {
   "display_name": "Python 3 (ipykernel)",
   "language": "python",
   "name": "python3"
  },
  "language_info": {
   "codemirror_mode": {
    "name": "ipython",
    "version": 3
   },
   "file_extension": ".py",
   "mimetype": "text/x-python",
   "name": "python",
   "nbconvert_exporter": "python",
   "pygments_lexer": "ipython3",
   "version": "3.7.6"
  }
 },
 "nbformat": 4,
 "nbformat_minor": 1
}

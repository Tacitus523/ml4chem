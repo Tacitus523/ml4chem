{
 "cells": [
  {
   "cell_type": "markdown",
   "metadata": {
    "id": "chFq0p6oYzfv"
   },
   "source": [
    "### Numpy Tutorial\n",
    "\n",
    "- Numpy is a Python library for scientific computing with powerful tools for manipulating multi-dimensional arrays.\n",
    "- A lot of (most) python packages use numpy functionality.\n",
    "- Numpy performs the matrix manipulations internally using highly optimized C-code, which is often orders of magnitude faster than any implementation that one could write in pure python.\n",
    "  - Therefore, you should always think about how you can use numpy functionality and functions to replace your slow python for-loops etc.\n",
    "- If you use python for scientific purposes, there is no way around numpy.\n",
    "\n",
    "In this tutorial, we will go through some basic numpy functionality, but we cannot cover everything. For more advanced features, you can visit the [Numpy documentation](https://numpy.org/doc/stable/) or you can also ask [ChatGPT](https://chat.openai.com/) to rewrite some of your code using fast numpy features 😃."
   ]
  },
  {
   "cell_type": "markdown",
   "metadata": {
    "id": "nfl-ayvtZlC6"
   },
   "source": [
    "#### Creating arrays\n",
    "\n",
    "There are many ways to create multi-dimensional NumPy arrays. Here are a few examples how to create them from python lists and 1s and 0s in a certrain shape. Most common libraries have functionalities to transform their datatypes into numpy arrays."
   ]
  },
  {
   "cell_type": "code",
   "execution_count": null,
   "metadata": {
    "colab": {
     "base_uri": "https://localhost:8080/"
    },
    "id": "UiSBmy80TI9i",
    "outputId": "e6f80896-52ca-4b5d-c5eb-759ef5fc069c"
   },
   "outputs": [],
   "source": [
    "import numpy as np\n",
    "np.set_printoptions(precision=2)\n",
    "\n",
    "# From a Python list:\n",
    "one_dim_array = np.array([1, 2, 3, 4, 5])\n",
    "print(\"One dimensional array:\\n\", one_dim_array)\n",
    "\n",
    "# From a Python list of lists:\n",
    "two_dim_array = np.array([[1, 2, 3], [4, 5, 6]])\n",
    "print(\"Two dimensional array:\\n\", two_dim_array)\n",
    "\n",
    "# Using built-in NumPy functions:\n",
    "zeros_array = np.zeros((2, 3))  # creates a 2x3 array of zeros\n",
    "print(\"Zeros array:\\n\", zeros_array)\n",
    "\n",
    "ones_array = np.ones((2, 3))  # creates a 2x3 array of ones\n",
    "print(\"Ones array:\\n\", ones_array)"
   ]
  },
  {
   "cell_type": "markdown",
   "metadata": {},
   "source": [
    "#### Array shapes\n",
    "\n",
    "Every numpy array has a \"shape\", which is a tuple of integers specifying the size of each dimension. This is an important information as an arrays shape determines, if its compatible with another one to perform arithmetic operations. A numpy array can have an arbitrary number of dimensions, each with an arbitrary size.\n",
    "\n",
    "The shape of a numpy array is fixed when it is created, you cannot add additional items to a dimension without creating a new array. This is different from python lists, where you can add additional elements and make the list larger."
   ]
  },
  {
   "cell_type": "code",
   "execution_count": null,
   "metadata": {},
   "outputs": [],
   "source": [
    "print(\"Shape of one dim array:\\n\", one_dim_array.shape) # shape (5,), can be interpreted as a vector with five entries\n",
    "print(\"Shape of two dim array:\\n\", two_dim_array.shape) # shape (2,3), can be interpreted as a matrix with 2 rows and 3 columns"
   ]
  },
  {
   "cell_type": "markdown",
   "metadata": {},
   "source": [
    "#### Array Indexing and Slicing\n",
    "\n",
    "NumPy arrays can be indexed and sliced like Python lists with the index brackets [] and slice operator :. Additional functionality is added as each axis of the array can be indexed and sliced within the same brackets by addressing the nth axis at the nth index of the index brackets.\n",
    "\n",
    "We can add an additional \"dummy\" dimension of size 1 to an existing array. For this, we can use \"np.newaxis\" when slicing the array or the np.expand_dims()-function. This is important to expand arrays into desired dimensionalities."
   ]
  },
  {
   "cell_type": "code",
   "execution_count": null,
   "metadata": {},
   "outputs": [],
   "source": [
    "print(\"One dim array:\\n\", one_dim_array)\n",
    "print(\"First element of one dim array:\\n\", one_dim_array[0])\n",
    "print(\"Elements 2, 3, and 4 of one dim array:\\n\", one_dim_array[2:5])  # the final element of the slice is excluded\n",
    "print(\"\\n\")\n",
    "\n",
    "print(\"Two dim array:\\n\", two_dim_array)\n",
    "print(\"Element at first axis 0, second axis 1:\\n\", two_dim_array[0, 1]) \n",
    "print(\"All Element at first axis and second axis 1 and up:\\n\", two_dim_array[:, 1:])\n",
    "print(\"\\n\")\n",
    "\n",
    "print(\"Array expansion\")\n",
    "print(\"Original shape:\", one_dim_array.shape, \"Expanded shape:\", one_dim_array[:, np.newaxis].shape)\n",
    "print(\"Original shape:\", two_dim_array.shape, \"Expanded shape:\", np.expand_dims(two_dim_array, axis=2).shape)"
   ]
  },
  {
   "cell_type": "markdown",
   "metadata": {},
   "source": [
    "#### Numpy built-in functions and operations\n",
    "\n",
    "NumPy arrays support many operations, including array reshaping, arithmetic operations, statistical operations, and linear algebra operations:\n"
   ]
  },
  {
   "cell_type": "code",
   "execution_count": null,
   "metadata": {},
   "outputs": [],
   "source": [
    "# Let's define some more arrays:\n",
    "a = np.array([1, 2, 3, 4, 5, 6])\n",
    "b = np.arange(0, 6) # Return evenly spaced values within the given interval (default step size: 1)\n",
    "c = np.zeros((3, 3))\n",
    "print(\"a:\\n\", a)\n",
    "print(\"b:\\n\", b)\n",
    "print(\"c:\\n\", c)\n",
    "print(\"\\n\")\n",
    "\n",
    "# Arithmetic operations\n",
    "print(\"Arithmetic operations\")\n",
    "print(f\"a + b: {a + b}\")\n",
    "print(f\"a - b: {a - b}\")\n",
    "print(f\"a * b: {a * b}\") # Multiplying two matrices / arrays is done element-wise! This is not matrix multiplication as known from math.\n",
    "print(f\"a / b: {a / b}\")\n",
    "print(\"\\n\")\n",
    "\n",
    "# Logical operations\n",
    "print(\"Logical operations\")\n",
    "# Returns a bool array of the same shape as \"a\", indicating for each element if a > 3 is True:\n",
    "print(f\"a > 3: {a > 3}\") \n",
    "# Another example:\n",
    "print(f\"b < 3: {b < 3}\")\n",
    "print(\"\\n\")\n",
    "\n",
    "# Statistical operations\n",
    "print(\"Statistical operations\")\n",
    "print(f\"Mean of a: {np.mean(a)}\")\n",
    "print(f\"Median of b: {np.median(b)}\")\n",
    "print(f\"Standard deviation of a: {np.std(a)}\")\n",
    "print(\"\\n\")\n",
    "\n",
    "# Flattening arrays\n",
    "print(\"Flattening arrays\")\n",
    "print(\"Calling flatten() on an array flattens all dimensions into a single dimension\")\n",
    "print(c.flatten()) # Shape (9,)\n",
    "print(\"\\n\")\n",
    "\n",
    "# Reshaping operations\n",
    "print(\"Reshaping operations\")\n",
    "print(\"'Reshape' first flattens the array (in our example, it is already flattened) and then turns it into the specified new shape.\")\n",
    "print(\"The total number of elements of the array remains the same, they are just spread differently across the dimensions.\")\n",
    "print(f\"Reshaped b into 2x3 matrix:\\n\", b.reshape((2, 3)))\n"
   ]
  },
  {
   "cell_type": "markdown",
   "metadata": {
    "id": "AAILQOQ2Zq_z"
   },
   "source": [
    "### Broadcasting\n",
    "\n",
    "One crucial and very powerful feature of numpy is broadcasting. This enables numpy to smartly change the shape of an array to make arithmetic operations between differently shaped arrays possible, as long as they are \"broadcastable\" into each other.\n",
    "\n",
    "When adding or multiplying two arrays, they usually need to have the same shape to be able to apply the operation element-wise. Broadcasting allows operations such as addition or multiplication between arrays of different shapes, by duplicating (\"broadcasting\") the smaller array to match the larger array. This often makes it possible to vectorize array operations so that no slow python loops are needed.\n",
    "\n",
    "When operating on two arrays with different shapes, NumPy compares their shapes element-wise. It starts with the trailing (i.e., rightmost) dimension and works its way left. Two dimensions are compatible if they are equal, or one of them is 1. If they are equal, then the dimensions are directly compatible and the operation can be performed element-wise as usual. If one of the dimensions is 1, then the array is duplicated along that dimension to match the size of that dimension of the other array.\n",
    "\n",
    "Furthermore, the arrays do not need to have the same number of dimensions (length of the shapes do not have to be the same). If one of the arrays has a smaller number of dimensions, the missing dimensions are filled with \"dummy\" dimensions of size 1 from the left.\n",
    "\n",
    "Let's look at some examples to make this clear:"
   ]
  },
  {
   "cell_type": "code",
   "execution_count": null,
   "metadata": {
    "colab": {
     "base_uri": "https://localhost:8080/"
    },
    "id": "UC--dwTfZfKw",
    "outputId": "78290bea-e658-49b9-c0ba-4617f5052d11"
   },
   "outputs": [],
   "source": [
    "print(\"Let's say we want to add a scalar value to a 2D array:\")\n",
    "h = np.array([[1, 2, 3], [4, 5, 6]])\n",
    "i = 2\n",
    "print(f\"We add {i} to \\n{h}\\n and get \\n{h + i}.\")\n",
    "print(\"The scalar value is broadcasted to each element of the array.\\n\")\n",
    "\n",
    "print(\"Let's look at a more complicated example:\")\n",
    "j = np.array([1, 2, 3]) # shape (3,)\n",
    "k = np.array([[1], [2]]) # shape (2,1)\n",
    "print(f\"We want to multiply \\n{j}\\n and \\n{k}.\")\n",
    "print(f\"The result is \\n{j*k}.\\n\")"
   ]
  },
  {
   "cell_type": "markdown",
   "metadata": {},
   "source": [
    "Let's try to understand what is happening here in more detail.\n",
    "The original shapes are (3,) and (2,1).\n",
    "The shapes get aligned at the right side and than filled with ones to get the same number of dimensions: (1,3) * (2,1).\n",
    "Then, as discussed above, dimensions of size 1 are duplicated / broadcasted to match the other array: \n",
    "=> (2,3) * (2,3) after repeating each array along the 1-dimensions.\n",
    "\n",
    "Now, the arrays have the same shapes and are being multiplied as usual, element-by-element.\n",
    "\n",
    "Try to see if you can calculate the result of j*k yourself. Maybe you have to write it down."
   ]
  },
  {
   "cell_type": "code",
   "execution_count": null,
   "metadata": {},
   "outputs": [],
   "source": [
    "print(\"Here is another example with a 2D matrix and a row vector and a column vector:\")\n",
    "matrix = np.array([[1,3],[3,5]]) # shape (2,2)\n",
    "row_vector = np.array([2,1]) # shape (2,)\n",
    "column_vector = np.array([[2],[1]]) # shape (1,2)\n",
    "print(\"Matrix:\\n\", matrix)\n",
    "print(\"Row vector:\\n\", row_vector)\n",
    "print(\"Column vector:\\n\", column_vector)\n",
    "\n",
    "print(f\"In case of Matrix((2,2)) * row vector((2,)) the result is:\\n {matrix*row_vector}\")\n",
    "\n",
    "print(\"\"\"\n",
    "Align the tensors at the right side and fill with 1s to match number \n",
    "of dimensions: (2,2)*(1,2) \n",
    "=> the vector is repeated (\"broadcasted\") along the rows of the matrix:\n",
    "(2,2)*(2,2)\n",
    "=> and then elementwise multiplication is applied as usual.\n",
    "\"\"\")\n",
    "\n",
    "print(f\"In case of Matrix((2,2)) * column vector((1,2)) the result is:\\n {matrix*column_vector}\")\n",
    "print(\"No dimensionality expansion is necessary, only repetion along the axis of length 1\")"
   ]
  },
  {
   "cell_type": "markdown",
   "metadata": {},
   "source": [
    "Now, try playing around with multiplying or adding some arrays of your choice of different dimensions.\n",
    "\n",
    "Try to understand, when the dimensions of two arrays are compatible and when not."
   ]
  },
  {
   "cell_type": "markdown",
   "metadata": {
    "id": "VphAoEuBZzRS"
   },
   "source": [
    "### Example: Computation of distance matrix between pairs of atoms\n",
    "\n",
    "To showcase how powerful using broadcasting can be, we use a simple example. Given an array of 2D points (shape: (N,2)), we want to get the distance matrix D_ij that contains the distances between all pairs of points."
   ]
  },
  {
   "cell_type": "markdown",
   "metadata": {
    "id": "AK1kKA4GSvjL"
   },
   "source": [
    "We start with a very inefficient implementation to compute this matrix using for-loops and python functionality."
   ]
  },
  {
   "cell_type": "code",
   "execution_count": null,
   "metadata": {
    "colab": {
     "base_uri": "https://localhost:8080/"
    },
    "id": "CrPJ5HOFSrbE",
    "outputId": "9f629242-9915-4096-cc94-a2f14f83f22b"
   },
   "outputs": [],
   "source": [
    "import numpy as np\n",
    "\n",
    "def get_distances_loop(coords):\n",
    "  # Create an empty array for the result:\n",
    "  distances = np.zeros((len(coords), len(coords)))\n",
    "\n",
    "  # Fill the array:\n",
    "  for i in range(len(coords)):\n",
    "      for j in range(len(coords)):\n",
    "          distances[i, j] = np.sqrt((coords[i][0] - coords[j][0]) ** 2 + (coords[i][1] - coords[j][1]) ** 2)\n",
    "\n",
    "  return distances\n",
    "\n",
    "# Create a list of coordinates\n",
    "coords = [(0, 0), (1, 0), (1, 1)]\n",
    "\n",
    "print(get_distances_loop(coords))"
   ]
  },
  {
   "cell_type": "markdown",
   "metadata": {
    "id": "IwsbE9MPS6V6"
   },
   "source": [
    "Now, try to reimplement the computation of the distance matrix yourself using the broadcasting rules that we saw above. Here are some hints on how to do this:\n",
    "- Create a numpy array from the python list `coords`\n",
    "- Currently, this array has shape (N,2). Create two new arrays, one of shape (N,1,2) and one of shape (1,N,2). Use np.newaxis when indexing or np.expand_dims (see above) to achieve this. When these arrays are broadcasted to each other, then each coordinate will be repeated along each row or each column. When subtracted the coordinates on the diagonal will interact with themselves(results in 0) and interact with each other coordinate otherwise. \n",
    "- Subtract these two arrays from each other. This will use broadcasting to get an array of shape (N,N,2) which contains the vector distance between each pair of atoms\n",
    "- Use a combination of np.sqrt and np.sum to calculate the distance matrix of shape (N,N). Look up the documentation of np.sum if needed.\n",
    "\n",
    "You can find the solution to this exercise at the very end of this notebook."
   ]
  },
  {
   "cell_type": "code",
   "execution_count": null,
   "metadata": {
    "colab": {
     "base_uri": "https://localhost:8080/"
    },
    "id": "VxGZnQI7S3JC",
    "outputId": "0ffacfaf-76b6-45b3-d1d8-a2685e1c6fda"
   },
   "outputs": [],
   "source": [
    "import numpy as np\n",
    "\n",
    "def get_distances_numpy(coords):\n",
    "\n",
    "  ### Your code goes here ###\n",
    "\n",
    "  return None # Change this!\n",
    "\n",
    "# Create a list of coordinates\n",
    "coords = [(0, 0), (1, 0), (1, 1)]\n",
    "print(get_distances_numpy(coords))"
   ]
  },
  {
   "cell_type": "markdown",
   "metadata": {
    "id": "iAuZ8QADX3ck"
   },
   "source": [
    "If you implemented it correctly, the numpy implementation should yield the same result as before.\n",
    "We can compare the runtime of both approaches by passing a very large array into both functions:"
   ]
  },
  {
   "cell_type": "code",
   "execution_count": null,
   "metadata": {
    "colab": {
     "base_uri": "https://localhost:8080/"
    },
    "id": "fym0figGYUqt",
    "outputId": "3f8ac520-e0b2-494a-cdf8-882f799fe0f9"
   },
   "outputs": [],
   "source": [
    "import time\n",
    "\n",
    "coords = np.random.randn(1000,2)\n",
    "\n",
    "start = time.time()\n",
    "loop_result = get_distances_loop(coords)\n",
    "elapsed_loop = time.time()-start\n",
    "print(f\"Python loop implementation took {elapsed_loop}s\")\n",
    "\n",
    "start = time.time()\n",
    "numpy_result = get_distances_numpy(coords)\n",
    "elapsed_numpy = time.time()-start\n",
    "if numpy_result is not None:\n",
    "    print(f\"Numpy implementation took {elapsed_numpy}s\")\n",
    "\n",
    "    results_are_equal = np.allclose(loop_result, numpy_result)\n",
    "\n",
    "    if results_are_equal is True:\n",
    "        print(\"The results from loop and numpy are the same.\")\n",
    "        print(f\"Numpy was {elapsed_loop/elapsed_numpy} times faster then the python loop.\")\n",
    "    else:\n",
    "        print(\"The result from loop and numpy are NOT the same.\")\n",
    "else:\n",
    "    print(\"Implement the NumPy-Version first!\")"
   ]
  },
  {
   "cell_type": "markdown",
   "metadata": {
    "id": "J4tGgxBBYWFk"
   },
   "source": [
    "As you should see, the numpy-based implementation is a lot faster than the naive python implementation using for-loops."
   ]
  },
  {
   "cell_type": "markdown",
   "metadata": {
    "id": "Ap0dK2Pfq3-G"
   },
   "source": [
    "### Solution"
   ]
  },
  {
   "cell_type": "code",
   "execution_count": null,
   "metadata": {
    "id": "koCFW0JMqyBY"
   },
   "outputs": [],
   "source": [
    "## Solution to the distance matrix calculation:\n",
    "\n",
    "import numpy as np\n",
    "\n",
    "def get_distances_numpy(coords):\n",
    "\n",
    "  # Convert the list of coordinates to a numpy array\n",
    "  coords_array = np.array(coords)\n",
    "\n",
    "  # Compute the distance matrix using broadcasting\n",
    "  differences = coords_array[:, np.newaxis, :] - coords_array[np.newaxis, :, :] # (N,1,2)-(1,N,2) => resulting matrix will have shape (N,N,2), containing the vector distance between every pair of atoms\n",
    "  distances = np.sqrt(np.sum(differences ** 2, axis=-1))\n",
    "\n",
    "  return distances\n",
    "\n",
    "# Create a list of coordinates\n",
    "coords = [(0, 0), (1, 0), (1, 1)]\n",
    "print(get_distances_numpy(coords))"
   ]
  }
 ],
 "metadata": {
  "colab": {
   "collapsed_sections": [
    "Ap0dK2Pfq3-G"
   ],
   "provenance": []
  },
  "kernelspec": {
   "display_name": "Python 3 (ipykernel)",
   "language": "python",
   "name": "python3"
  },
  "language_info": {
   "codemirror_mode": {
    "name": "ipython",
    "version": 3
   },
   "file_extension": ".py",
   "mimetype": "text/x-python",
   "name": "python",
   "nbconvert_exporter": "python",
   "pygments_lexer": "ipython3",
   "version": "3.7.16"
  }
 },
 "nbformat": 4,
 "nbformat_minor": 1
}
